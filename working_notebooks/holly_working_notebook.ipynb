{
 "cells": [
  {
   "cell_type": "code",
   "execution_count": 238,
   "metadata": {},
   "outputs": [],
   "source": [
    "import pandas as pd\n",
    "import numpy as np\n",
    "import matplotlib.pyplot as plt\n",
    "import seaborn as sns\n",
    "from sklearn.pipeline import Pipeline\n",
    "from sklearn.preprocessing import OneHotEncoder, OrdinalEncoder, MinMaxScaler, RobustScaler, StandardScaler, FunctionTransformer\n",
    "from sklearn.metrics import plot_confusion_matrix, classification_report                \n",
    "from sklearn.ensemble import RandomForestClassifier\n",
    "from sklearn.neighbors import KNeighborsClassifier\n",
    "from sklearn.model_selection import cross_val_score, GridSearchCV, train_test_split\n",
    "from sklearn.linear_model import LogisticRegression\n",
    "from sklearn.compose import ColumnTransformer\n",
    "from sklearn.dummy import DummyClassifier\n",
    "from imblearn.over_sampling import SMOTENC\n",
    "# from sklearn.impute import SimpleImputer"
   ]
  },
  {
   "cell_type": "code",
   "execution_count": 84,
   "metadata": {},
   "outputs": [],
   "source": [
    "testv = pd.read_csv('../data/test_vals.csv')\n",
    "trainl = pd.read_csv('../data/training_labels.csv')\n",
    "trainv = pd.read_csv('../data/training_vals.csv')"
   ]
  },
  {
   "cell_type": "code",
   "execution_count": 85,
   "metadata": {},
   "outputs": [
    {
     "data": {
      "text/plain": [
       "functional                 32259\n",
       "non functional             22824\n",
       "functional needs repair     4317\n",
       "Name: status_group, dtype: int64"
      ]
     },
     "execution_count": 85,
     "metadata": {},
     "output_type": "execute_result"
    }
   ],
   "source": [
    "trainl.status_group.value_counts()"
   ]
  },
  {
   "cell_type": "code",
   "execution_count": 86,
   "metadata": {},
   "outputs": [],
   "source": [
    "idequality = (trainl['id'] == trainv['id'] )"
   ]
  },
  {
   "cell_type": "code",
   "execution_count": 87,
   "metadata": {},
   "outputs": [],
   "source": [
    "data = pd.merge(trainv, trainl) #merging into one dataset\n"
   ]
  },
  {
   "cell_type": "code",
   "execution_count": 88,
   "metadata": {},
   "outputs": [
    {
     "name": "stdout",
     "output_type": "stream",
     "text": [
      "{'status_group'}\n"
     ]
    }
   ],
   "source": [
    "print(set(data.columns).difference(set(trainv.columns))) # a sort of check to see if merge worked"
   ]
  },
  {
   "cell_type": "code",
   "execution_count": 89,
   "metadata": {},
   "outputs": [],
   "source": [
    "# testohe = OneHotEncoder()\n",
    "# dummy1 = pd.get_dummies(data['scheme_name'].dropna())\n",
    "# dummy2 = pd.get_dummies(data['status_group'].dropna())\n",
    "# testtree = DecisionTreeClassifier(max_depth=3)\n",
    "# testtree.fit(dummy1, dummy2 )/\n",
    "# testtree.score(data['scheme_name'], data['status_group'])"
   ]
  },
  {
   "cell_type": "code",
   "execution_count": 90,
   "metadata": {},
   "outputs": [],
   "source": [
    "# pipe = Pipeline(steps=[\n",
    "#     ('scaler', StandardScaler),\n",
    "#     ('ohe', OneHotEncoder)\n",
    "#     ('polynom', PolynomialFeatures)\n",
    "# ])"
   ]
  },
  {
   "cell_type": "code",
   "execution_count": 91,
   "metadata": {},
   "outputs": [
    {
     "data": {
      "text/plain": [
       "(array(['communal standpipe', 'hand pump', 'other', 'improved spring',\n",
       "        'cattle trough', 'dam'], dtype=object),\n",
       " array(['communal standpipe', 'communal standpipe multiple', 'hand pump',\n",
       "        'other', 'improved spring', 'cattle trough', 'dam'], dtype=object))"
      ]
     },
     "execution_count": 91,
     "metadata": {},
     "output_type": "execute_result"
    }
   ],
   "source": [
    "data['waterpoint_type_group'].unique(), data['waterpoint_type'].unique()"
   ]
  },
  {
   "cell_type": "code",
   "execution_count": 92,
   "metadata": {
    "scrolled": true
   },
   "outputs": [
    {
     "name": "stdout",
     "output_type": "stream",
     "text": [
      "<class 'pandas.core.frame.DataFrame'>\n",
      "Int64Index: 59400 entries, 0 to 59399\n",
      "Data columns (total 41 columns):\n",
      " #   Column                 Non-Null Count  Dtype  \n",
      "---  ------                 --------------  -----  \n",
      " 0   id                     59400 non-null  int64  \n",
      " 1   amount_tsh             59400 non-null  float64\n",
      " 2   date_recorded          59400 non-null  object \n",
      " 3   funder                 55765 non-null  object \n",
      " 4   gps_height             59400 non-null  int64  \n",
      " 5   installer              55745 non-null  object \n",
      " 6   longitude              59400 non-null  float64\n",
      " 7   latitude               59400 non-null  float64\n",
      " 8   wpt_name               59400 non-null  object \n",
      " 9   num_private            59400 non-null  int64  \n",
      " 10  basin                  59400 non-null  object \n",
      " 11  subvillage             59029 non-null  object \n",
      " 12  region                 59400 non-null  object \n",
      " 13  region_code            59400 non-null  int64  \n",
      " 14  district_code          59400 non-null  int64  \n",
      " 15  lga                    59400 non-null  object \n",
      " 16  ward                   59400 non-null  object \n",
      " 17  population             59400 non-null  int64  \n",
      " 18  public_meeting         56066 non-null  object \n",
      " 19  recorded_by            59400 non-null  object \n",
      " 20  scheme_management      55523 non-null  object \n",
      " 21  scheme_name            31234 non-null  object \n",
      " 22  permit                 56344 non-null  object \n",
      " 23  construction_year      59400 non-null  int64  \n",
      " 24  extraction_type        59400 non-null  object \n",
      " 25  extraction_type_group  59400 non-null  object \n",
      " 26  extraction_type_class  59400 non-null  object \n",
      " 27  management             59400 non-null  object \n",
      " 28  management_group       59400 non-null  object \n",
      " 29  payment                59400 non-null  object \n",
      " 30  payment_type           59400 non-null  object \n",
      " 31  water_quality          59400 non-null  object \n",
      " 32  quality_group          59400 non-null  object \n",
      " 33  quantity               59400 non-null  object \n",
      " 34  quantity_group         59400 non-null  object \n",
      " 35  source                 59400 non-null  object \n",
      " 36  source_type            59400 non-null  object \n",
      " 37  source_class           59400 non-null  object \n",
      " 38  waterpoint_type        59400 non-null  object \n",
      " 39  waterpoint_type_group  59400 non-null  object \n",
      " 40  status_group           59400 non-null  object \n",
      "dtypes: float64(3), int64(7), object(31)\n",
      "memory usage: 19.0+ MB\n"
     ]
    }
   ],
   "source": [
    "data.info() #which to drop, which to encode, etc"
   ]
  },
  {
   "cell_type": "markdown",
   "metadata": {},
   "source": [
    "TODO: dropnas on all, make copy df drop some columns like ['date_recorded', 'latitude', 'longitude', 'wpt_name', 'num_private', 'region_code', 'district_code, 'lga', 'ward', 'subvillage', 'public_meeting', 'recorded_by', 'extraction_type', 'extraction_type_group', 'management_group', 'payment_type', 'water_quality', 'quantity_group', 'source_type', 'source_class', 'waterpoint_type']\n",
    "\n",
    "\n",
    "^^ all but 'region' for location, then some unhelpful others such as ones without clear description\n",
    "\n",
    "&nbsp;\n",
    "\n",
    "get rid of zero val in construction_year \n",
    "change year into daterange from base year point\n",
    "\n",
    "&nbsp;\n",
    "\n",
    "check target as boolean vs multiclass vs maybe smoted functional but needs repair\n",
    "\n",
    "&nbsp;\n",
    "\n",
    "make narrative (stakeholder etc)\n",
    "\n",
    "&nbsp;\n",
    "\n",
    "dropnas, check for zeros, maybe convert bools, ordinal?, ohe, regression/normalize, model different versions (drop/dont scheme_name, drop/dont construction_year)"
   ]
  },
  {
   "cell_type": "code",
   "execution_count": 93,
   "metadata": {},
   "outputs": [
    {
     "data": {
      "text/plain": [
       "22"
      ]
     },
     "execution_count": 93,
     "metadata": {},
     "output_type": "execute_result"
    }
   ],
   "source": [
    "dropt_cols = ['id', 'date_recorded', 'latitude', 'longitude', 'wpt_name', 'num_private', 'region_code', 'district_code', 'lga', 'ward', 'subvillage', 'public_meeting', 'recorded_by', 'extraction_type', 'extraction_type_group', 'management_group', 'payment_type', 'water_quality', 'quantity_group', 'source_type', 'source_class', 'waterpoint_type']\n",
    "\n",
    "len(dropt_cols)"
   ]
  },
  {
   "cell_type": "code",
   "execution_count": 94,
   "metadata": {},
   "outputs": [],
   "source": [
    "# Using Andrew's scheme instead of this one\n",
    "\n",
    "# data1 = data.drop(\n",
    "#     ['date_recorded', 'latitude', 'longitude', 'wpt_name', \n",
    "#      'num_private', 'region_code', 'district_code', 'lga',\n",
    "#      'ward', 'subvillage', 'public_meeting', 'recorded_by', \n",
    "#      'construction_year', 'extraction_type', \n",
    "#      'extraction_type_group', 'management_group', 'payment_type',\n",
    "#      'water_quality', 'quantity_group', 'source_type',\n",
    "#      'source_class', 'waterpoint_type'],\n",
    "#     axis=1)\n",
    "\n",
    "# data1.dropna(inplace=True)"
   ]
  },
  {
   "cell_type": "code",
   "execution_count": 95,
   "metadata": {},
   "outputs": [],
   "source": [
    "# # is it possible to make a train test split function?\n",
    "# def ttsplit(X, y, n):\n",
    "#     Xtrain, Xtest, ytrain, ytest = train_test_split(X,y)\n",
    "# this was achieved in collab with Andrew, with a for loop iterating through a dictionary to name variables and run them through train_test_split"
   ]
  },
  {
   "cell_type": "code",
   "execution_count": 96,
   "metadata": {},
   "outputs": [],
   "source": [
    "drop_cols_list = ['id','date_recorded', 'latitude', 'longitude', 'wpt_name',\n",
    "                  'num_private', 'region_code', 'district_code', 'lga', 'ward',\n",
    "                  'subvillage', 'public_meeting', 'recorded_by', 'extraction_type', \n",
    "                  'extraction_type_group', 'management_group', 'payment_type', 'water_quality',\n",
    "                  'quantity_group', 'source_type', 'source_class', 'waterpoint_type']\n",
    "\n",
    "df1 = data.drop(drop_cols_list, axis=1)\n",
    "df2 = df1.dropna()\n",
    "df3 = df2.drop(df2.loc[df2['construction_year']==0].index)\n",
    "data_all = df3 \n",
    "df4 = df1.drop('scheme_name', axis=1)\n",
    "df5 = df4.dropna()\n",
    "df6 = df5.drop(df5.loc[df5['construction_year']==0].index)\n",
    "data_no_sname = df6\n",
    "df7 = df1.drop('construction_year', axis=1)\n",
    "df8 = df7.dropna()\n",
    "data_no_constr = df8\n",
    "df9 = df1.drop(['scheme_name', 'construction_year'], axis=1)\n",
    "df10 = df9.dropna()\n",
    "data_no_sname_no_constr = df10\n"
   ]
  },
  {
   "cell_type": "code",
   "execution_count": 97,
   "metadata": {},
   "outputs": [],
   "source": [
    "df_list = {'data_all': data_all, 'data_no_sname': data_no_sname, 'data_no_constr': data_no_constr, 'data_no_sname_no_constr': data_no_sname_no_constr}\n",
    "df_dict = {}\n",
    "\n",
    "for key, value in df_list.items():\n",
    "    X = value.drop('status_group', axis=1)\n",
    "    y = value['status_group']\n",
    "    z = key\n",
    "    df_dict[\"X_train_\" + z], df_dict[\"X_test_\" + z], df_dict[\"y_train_\" + z], df_dict[\"y_test_\" + z] = train_test_split(X, y)"
   ]
  },
  {
   "cell_type": "code",
   "execution_count": 98,
   "metadata": {},
   "outputs": [],
   "source": [
    "# def grab_numeric(df):\n",
    "#     return df.select_dtypes(include=['float', 'int'])\n",
    "# GrabNum = FunctionTransformer(grab_numeric)\n",
    "\n",
    "def grab_numeric(df):\n",
    "    df = pd.DataFrame(df)\n",
    "    return df.select_dtypes(include=['float', 'int']) \n",
    "\n",
    "GrabNum = FunctionTransformer(grab_numeric)\n",
    "\n",
    "subpipe_num = Pipeline(steps = [('grab_num', GrabNum), ('scaler', StandardScaler())])\n",
    "\n",
    "def grab_categorical(df):\n",
    "    df = pd.DataFrame(df)\n",
    "    return df.select_dtypes(include=['object'])\n",
    "\n",
    "GrabCat = FunctionTransformer(grab_categorical)\n",
    "\n",
    "subpipe_cat = Pipeline(steps = [('grab_cat', GrabCat),\n",
    "                                ('ohe', OneHotEncoder(sparse=False, handle_unknown='ignore'))])\n",
    "\n",
    "col_trans = ColumnTransformer(transformers=[('subpipe_num', subpipe_num, X.columns),\n",
    "                                            ('subpipe_cat', subpipe_cat, X.columns)]) \n",
    "\n"
   ]
  },
  {
   "cell_type": "code",
   "execution_count": 99,
   "metadata": {},
   "outputs": [],
   "source": [
    "logreg_pipe = Pipeline(steps=[('col_trans', col_trans), ('logreg', LogisticRegression(max_iter=10000))]) "
   ]
  },
  {
   "cell_type": "code",
   "execution_count": 105,
   "metadata": {},
   "outputs": [
    {
     "data": {
      "text/plain": [
       "Index(['amount_tsh', 'funder', 'gps_height', 'installer', 'basin', 'region',\n",
       "       'population', 'scheme_management', 'scheme_name', 'permit',\n",
       "       'construction_year', 'extraction_type_class', 'management', 'payment',\n",
       "       'quality_group', 'quantity', 'source', 'waterpoint_type_group'],\n",
       "      dtype='object')"
      ]
     },
     "execution_count": 105,
     "metadata": {},
     "output_type": "execute_result"
    }
   ],
   "source": [
    "df_dict['X_train_data_all'].columns#, df_dict['y_train_data_all'], df_dict['y_test_data_all']"
   ]
  },
  {
   "cell_type": "code",
   "execution_count": 18,
   "metadata": {},
   "outputs": [
    {
     "data": {
      "text/plain": [
       "Pipeline(steps=[('col_trans',\n",
       "                 ColumnTransformer(transformers=[('subpipe_num',\n",
       "                                                  Pipeline(steps=[('grab_num',\n",
       "                                                                   FunctionTransformer(func=<function grab_numeric at 0x7ff510bb85e0>)),\n",
       "                                                                  ('scaler',\n",
       "                                                                   StandardScaler())]),\n",
       "                                                  Index(['amount_tsh', 'funder', 'gps_height', 'installer', 'basin', 'region',\n",
       "       'population', 'scheme_management', 'permit', 'extraction_type_class',\n",
       "       'management',...\n",
       "                                                                  ('ohe',\n",
       "                                                                   OneHotEncoder(handle_unknown='ignore',\n",
       "                                                                                 sparse=False))]),\n",
       "                                                  Index(['amount_tsh', 'funder', 'gps_height', 'installer', 'basin', 'region',\n",
       "       'population', 'scheme_management', 'permit', 'extraction_type_class',\n",
       "       'management', 'payment', 'quality_group', 'quantity', 'source',\n",
       "       'waterpoint_type_group'],\n",
       "      dtype='object'))])),\n",
       "                ('logreg', LogisticRegression(max_iter=10000))])"
      ]
     },
     "execution_count": 18,
     "metadata": {},
     "output_type": "execute_result"
    }
   ],
   "source": [
    "logreg_pipe.fit(df_dict['X_train_data_all'], df_dict['y_train_data_all'])"
   ]
  },
  {
   "cell_type": "code",
   "execution_count": null,
   "metadata": {
    "scrolled": true
   },
   "outputs": [],
   "source": [
    "# # logistic regression \n",
    "# params = {}\n",
    "# params['logreg__penalty'] = ['l1', 'l2']\n",
    "# params['logreg__C'] = [1.0, .10, .01, .001]\n",
    "# params['logreg__solver'] = ['saga', 'lbfgs']\n",
    "\n",
    "# grid = GridSearchCV(logreg_pipe, param_grid=params, cv=3, n_jobs=-2, verbose=3)\n",
    "\n",
    "# grid.fit(df_dict['X_train_data_all'], df_dict['y_train_data_all'])"
   ]
  },
  {
   "cell_type": "code",
   "execution_count": 21,
   "metadata": {},
   "outputs": [],
   "source": [
    "forest_pipe = Pipeline(steps=[('col_trans', col_trans), ('forest', RandomForestClassifier())]) "
   ]
  },
  {
   "cell_type": "code",
   "execution_count": 22,
   "metadata": {},
   "outputs": [
    {
     "data": {
      "text/plain": [
       "Pipeline(steps=[('col_trans',\n",
       "                 ColumnTransformer(transformers=[('subpipe_num',\n",
       "                                                  Pipeline(steps=[('grab_num',\n",
       "                                                                   FunctionTransformer(func=<function grab_numeric at 0x7f26635c51f0>)),\n",
       "                                                                  ('scaler',\n",
       "                                                                   StandardScaler())]),\n",
       "                                                  Index(['amount_tsh', 'funder', 'gps_height', 'installer', 'basin', 'region',\n",
       "       'population', 'scheme_management', 'permit', 'extraction_type_class',\n",
       "       'management',...\n",
       "                                                                   FunctionTransformer(func=<function grab_categorical at 0x7f26635c53a0>)),\n",
       "                                                                  ('ohe',\n",
       "                                                                   OneHotEncoder(handle_unknown='ignore',\n",
       "                                                                                 sparse=False))]),\n",
       "                                                  Index(['amount_tsh', 'funder', 'gps_height', 'installer', 'basin', 'region',\n",
       "       'population', 'scheme_management', 'permit', 'extraction_type_class',\n",
       "       'management', 'payment', 'quality_group', 'quantity', 'source',\n",
       "       'waterpoint_type_group'],\n",
       "      dtype='object'))])),\n",
       "                ('forest', RandomForestClassifier())])"
      ]
     },
     "execution_count": 22,
     "metadata": {},
     "output_type": "execute_result"
    }
   ],
   "source": [
    "forest_pipe.fit(df_dict['X_train_data_all'], df_dict['y_train_data_all'])"
   ]
  },
  {
   "cell_type": "code",
   "execution_count": 23,
   "metadata": {},
   "outputs": [
    {
     "name": "stdout",
     "output_type": "stream",
     "text": [
      "Fitting 3 folds for each of 36 candidates, totalling 108 fits\n"
     ]
    },
    {
     "name": "stderr",
     "output_type": "stream",
     "text": [
      "[Parallel(n_jobs=-2)]: Using backend LokyBackend with 7 concurrent workers.\n",
      "[Parallel(n_jobs=-2)]: Done  18 tasks      | elapsed:   14.5s\n",
      "[Parallel(n_jobs=-2)]: Done 108 out of 108 | elapsed:  2.9min finished\n"
     ]
    },
    {
     "data": {
      "text/plain": [
       "GridSearchCV(cv=3,\n",
       "             estimator=Pipeline(steps=[('col_trans',\n",
       "                                        ColumnTransformer(transformers=[('subpipe_num',\n",
       "                                                                         Pipeline(steps=[('grab_num',\n",
       "                                                                                          FunctionTransformer(func=<function grab_numeric at 0x7f26635c51f0>)),\n",
       "                                                                                         ('scaler',\n",
       "                                                                                          StandardScaler())]),\n",
       "                                                                         Index(['amount_tsh', 'funder', 'gps_height', 'installer', 'basin', 'region',\n",
       "       'population', 'scheme_management', 'permit', 'extracti...\n",
       "       'population', 'scheme_management', 'permit', 'extraction_type_class',\n",
       "       'management', 'payment', 'quality_group', 'quantity', 'source',\n",
       "       'waterpoint_type_group'],\n",
       "      dtype='object'))])),\n",
       "                                       ('forest', RandomForestClassifier())]),\n",
       "             n_jobs=-2,\n",
       "             param_grid={'forest__max_depth': [3, 5, 10],\n",
       "                         'forest__max_features': ['sqrt', 'log2'],\n",
       "                         'forest__min_samples_split': [200, 1000],\n",
       "                         'forest__n_estimators': [10, 100, 1000]},\n",
       "             verbose=3)"
      ]
     },
     "execution_count": 23,
     "metadata": {},
     "output_type": "execute_result"
    }
   ],
   "source": [
    "# params0 = {}\n",
    "# params0['forest__n_estimators'] = [10, 100, 1000]\n",
    "# params0['forest__max_depth'] = [3, 5, 10]\n",
    "# params0['forest__min_samples_split'] = [200, 1000]\n",
    "# params0['forest__max_features'] = ['sqrt', 'log2']\n",
    "\n",
    "# grid0 = GridSearchCV(forest_pipe, param_grid=params0, cv=3, n_jobs=-2, verbose=3)\n",
    "\n",
    "# grid0.fit(df_dict['X_train_data_all'], df_dict['y_train_data_all'])"
   ]
  },
  {
   "cell_type": "code",
   "execution_count": 24,
   "metadata": {},
   "outputs": [],
   "source": [
    "knn_pipe = Pipeline(steps=[('col_trans', col_trans), ('knn', KNeighborsClassifier())]) "
   ]
  },
  {
   "cell_type": "code",
   "execution_count": 25,
   "metadata": {},
   "outputs": [
    {
     "data": {
      "text/plain": [
       "Pipeline(steps=[('col_trans',\n",
       "                 ColumnTransformer(transformers=[('subpipe_num',\n",
       "                                                  Pipeline(steps=[('grab_num',\n",
       "                                                                   FunctionTransformer(func=<function grab_numeric at 0x7f26635c51f0>)),\n",
       "                                                                  ('scaler',\n",
       "                                                                   StandardScaler())]),\n",
       "                                                  Index(['amount_tsh', 'funder', 'gps_height', 'installer', 'basin', 'region',\n",
       "       'population', 'scheme_management', 'permit', 'extraction_type_class',\n",
       "       'management',...\n",
       "                                                                   FunctionTransformer(func=<function grab_categorical at 0x7f26635c53a0>)),\n",
       "                                                                  ('ohe',\n",
       "                                                                   OneHotEncoder(handle_unknown='ignore',\n",
       "                                                                                 sparse=False))]),\n",
       "                                                  Index(['amount_tsh', 'funder', 'gps_height', 'installer', 'basin', 'region',\n",
       "       'population', 'scheme_management', 'permit', 'extraction_type_class',\n",
       "       'management', 'payment', 'quality_group', 'quantity', 'source',\n",
       "       'waterpoint_type_group'],\n",
       "      dtype='object'))])),\n",
       "                ('knn', KNeighborsClassifier())])"
      ]
     },
     "execution_count": 25,
     "metadata": {},
     "output_type": "execute_result"
    }
   ],
   "source": [
    "knn_pipe.fit(df_dict['X_train_data_all'], df_dict['y_train_data_all'])"
   ]
  },
  {
   "cell_type": "code",
   "execution_count": 26,
   "metadata": {},
   "outputs": [
    {
     "name": "stdout",
     "output_type": "stream",
     "text": [
      "Fitting 3 folds for each of 16 candidates, totalling 48 fits\n"
     ]
    },
    {
     "name": "stderr",
     "output_type": "stream",
     "text": [
      "[Parallel(n_jobs=-2)]: Using backend LokyBackend with 7 concurrent workers.\n",
      "[Parallel(n_jobs=-2)]: Done  18 tasks      | elapsed:  2.1min\n",
      "[Parallel(n_jobs=-2)]: Done  48 out of  48 | elapsed:  7.2min finished\n"
     ]
    },
    {
     "data": {
      "text/plain": [
       "GridSearchCV(cv=3,\n",
       "             estimator=Pipeline(steps=[('col_trans',\n",
       "                                        ColumnTransformer(transformers=[('subpipe_num',\n",
       "                                                                         Pipeline(steps=[('grab_num',\n",
       "                                                                                          FunctionTransformer(func=<function grab_numeric at 0x7f26635c51f0>)),\n",
       "                                                                                         ('scaler',\n",
       "                                                                                          StandardScaler())]),\n",
       "                                                                         Index(['amount_tsh', 'funder', 'gps_height', 'installer', 'basin', 'region',\n",
       "       'population', 'scheme_management', 'permit', 'extracti...\n",
       "                                                                         Index(['amount_tsh', 'funder', 'gps_height', 'installer', 'basin', 'region',\n",
       "       'population', 'scheme_management', 'permit', 'extraction_type_class',\n",
       "       'management', 'payment', 'quality_group', 'quantity', 'source',\n",
       "       'waterpoint_type_group'],\n",
       "      dtype='object'))])),\n",
       "                                       ('knn', KNeighborsClassifier())]),\n",
       "             n_jobs=-2,\n",
       "             param_grid={'knn__n_neighbors': [3, 5, 7, 11], 'knn__p': [1, 2],\n",
       "                         'knn__weights': ['uniform', 'distance']},\n",
       "             verbose=3)"
      ]
     },
     "execution_count": 26,
     "metadata": {},
     "output_type": "execute_result"
    }
   ],
   "source": [
    "# params1 = {}\n",
    "# params1['knn__n_neighbors'] = [3, 5, 7, 11]\n",
    "# params1['knn__weights'] = ['uniform', 'distance']\n",
    "# params1['knn__p'] = [1, 2]\n",
    "\n",
    "# grid1 = GridSearchCV(knn_pipe, param_grid=params1, cv=3, n_jobs=-2, verbose=3)\n",
    "\n",
    "# grid1.fit(df_dict['X_train_data_all'], df_dict['y_train_data_all'])"
   ]
  },
  {
   "cell_type": "code",
   "execution_count": 27,
   "metadata": {
    "scrolled": true
   },
   "outputs": [
    {
     "data": {
      "text/plain": [
       "({'logreg__C': 1.0, 'logreg__penalty': 'l2', 'logreg__solver': 'lbfgs'},\n",
       " {'forest__max_depth': 10,\n",
       "  'forest__max_features': 'sqrt',\n",
       "  'forest__min_samples_split': 200,\n",
       "  'forest__n_estimators': 1000},\n",
       " {'knn__n_neighbors': 11, 'knn__p': 1, 'knn__weights': 'distance'})"
      ]
     },
     "execution_count": 27,
     "metadata": {},
     "output_type": "execute_result"
    }
   ],
   "source": [
    "grid.best_params_, grid0.best_params_, grid1.best_params_"
   ]
  },
  {
   "cell_type": "code",
   "execution_count": 30,
   "metadata": {},
   "outputs": [
    {
     "data": {
      "text/plain": [
       "(0.77888636201987, 0.7295676497671435, 0.777947591538369)"
      ]
     },
     "execution_count": 30,
     "metadata": {},
     "output_type": "execute_result"
    }
   ],
   "source": [
    "grid.best_score_, grid0.best_score_, grid1.best_score_"
   ]
  },
  {
   "cell_type": "code",
   "execution_count": 31,
   "metadata": {
    "scrolled": true
   },
   "outputs": [
    {
     "data": {
      "text/plain": [
       "{'mean_fit_time': array([8.73297182e+02, 2.59107749e-01, 6.79241717e+02, 2.87350407e+01,\n",
       "        7.14599350e+02, 1.92726056e-01, 3.80396916e+02, 1.16496743e+01,\n",
       "        2.72103195e+02, 1.82199319e-01, 1.65323531e+02, 5.86761332e+00,\n",
       "        5.13559071e+00, 1.82109912e-01, 4.66367393e+01, 1.75363700e+00]),\n",
       " 'std_fit_time': array([4.81248332e+01, 8.17503711e-02, 1.73743403e+01, 1.21537298e+00,\n",
       "        8.87331454e+01, 4.53263687e-03, 5.85149637e+01, 1.33656682e+00,\n",
       "        1.03264140e+02, 1.46337506e-03, 3.39911625e+01, 3.83612230e-01,\n",
       "        4.51032195e-01, 4.57541522e-04, 1.39152612e+01, 1.75006738e-01]),\n",
       " 'mean_score_time': array([0.12844976, 0.        , 0.12000775, 0.11526569, 0.11403322,\n",
       "        0.        , 0.11776765, 0.12295802, 0.10815605, 0.        ,\n",
       "        0.10208154, 0.12402137, 0.11518494, 0.        , 0.08008075,\n",
       "        0.09612958]),\n",
       " 'std_score_time': array([0.00622066, 0.        , 0.00449002, 0.01457183, 0.01137853,\n",
       "        0.        , 0.00122923, 0.01449183, 0.01897614, 0.        ,\n",
       "        0.01766411, 0.00531863, 0.00019056, 0.        , 0.0037059 ,\n",
       "        0.0129409 ]),\n",
       " 'param_logreg__C': masked_array(data=[1.0, 1.0, 1.0, 1.0, 0.1, 0.1, 0.1, 0.1, 0.01, 0.01,\n",
       "                    0.01, 0.01, 0.001, 0.001, 0.001, 0.001],\n",
       "              mask=[False, False, False, False, False, False, False, False,\n",
       "                    False, False, False, False, False, False, False, False],\n",
       "        fill_value='?',\n",
       "             dtype=object),\n",
       " 'param_logreg__penalty': masked_array(data=['l1', 'l1', 'l2', 'l2', 'l1', 'l1', 'l2', 'l2', 'l1',\n",
       "                    'l1', 'l2', 'l2', 'l1', 'l1', 'l2', 'l2'],\n",
       "              mask=[False, False, False, False, False, False, False, False,\n",
       "                    False, False, False, False, False, False, False, False],\n",
       "        fill_value='?',\n",
       "             dtype=object),\n",
       " 'param_logreg__solver': masked_array(data=['saga', 'lbfgs', 'saga', 'lbfgs', 'saga', 'lbfgs',\n",
       "                    'saga', 'lbfgs', 'saga', 'lbfgs', 'saga', 'lbfgs',\n",
       "                    'saga', 'lbfgs', 'saga', 'lbfgs'],\n",
       "              mask=[False, False, False, False, False, False, False, False,\n",
       "                    False, False, False, False, False, False, False, False],\n",
       "        fill_value='?',\n",
       "             dtype=object),\n",
       " 'params': [{'logreg__C': 1.0,\n",
       "   'logreg__penalty': 'l1',\n",
       "   'logreg__solver': 'saga'},\n",
       "  {'logreg__C': 1.0, 'logreg__penalty': 'l1', 'logreg__solver': 'lbfgs'},\n",
       "  {'logreg__C': 1.0, 'logreg__penalty': 'l2', 'logreg__solver': 'saga'},\n",
       "  {'logreg__C': 1.0, 'logreg__penalty': 'l2', 'logreg__solver': 'lbfgs'},\n",
       "  {'logreg__C': 0.1, 'logreg__penalty': 'l1', 'logreg__solver': 'saga'},\n",
       "  {'logreg__C': 0.1, 'logreg__penalty': 'l1', 'logreg__solver': 'lbfgs'},\n",
       "  {'logreg__C': 0.1, 'logreg__penalty': 'l2', 'logreg__solver': 'saga'},\n",
       "  {'logreg__C': 0.1, 'logreg__penalty': 'l2', 'logreg__solver': 'lbfgs'},\n",
       "  {'logreg__C': 0.01, 'logreg__penalty': 'l1', 'logreg__solver': 'saga'},\n",
       "  {'logreg__C': 0.01, 'logreg__penalty': 'l1', 'logreg__solver': 'lbfgs'},\n",
       "  {'logreg__C': 0.01, 'logreg__penalty': 'l2', 'logreg__solver': 'saga'},\n",
       "  {'logreg__C': 0.01, 'logreg__penalty': 'l2', 'logreg__solver': 'lbfgs'},\n",
       "  {'logreg__C': 0.001, 'logreg__penalty': 'l1', 'logreg__solver': 'saga'},\n",
       "  {'logreg__C': 0.001, 'logreg__penalty': 'l1', 'logreg__solver': 'lbfgs'},\n",
       "  {'logreg__C': 0.001, 'logreg__penalty': 'l2', 'logreg__solver': 'saga'},\n",
       "  {'logreg__C': 0.001, 'logreg__penalty': 'l2', 'logreg__solver': 'lbfgs'}],\n",
       " 'split0_test_score': array([0.7821416 ,        nan, 0.7840789 , 0.78636844, 0.75695667,\n",
       "               nan, 0.77333568, 0.77333568, 0.71134202,        nan,\n",
       "        0.74885523, 0.74885523, 0.60496654,        nan, 0.70517788,\n",
       "        0.70517788]),\n",
       " 'split1_test_score': array([0.76906817,        nan, 0.77135811, 0.77118196, 0.74106042,\n",
       "               nan, 0.76149375, 0.76255064, 0.70829664,        nan,\n",
       "        0.73859433, 0.73859433, 0.6050731 ,        nan, 0.69667078,\n",
       "        0.69667078]),\n",
       " 'split2_test_score': array([0.77576185,        nan, 0.77875639, 0.77910868, 0.7463449 ,\n",
       "               nan, 0.76660208, 0.76642593, 0.71199577,        nan,\n",
       "        0.74687335, 0.74687335, 0.6050731 ,        nan, 0.7038929 ,\n",
       "        0.7038929 ]),\n",
       " 'mean_test_score': array([0.77565721,        nan, 0.77806447, 0.77888636, 0.74812066,\n",
       "               nan, 0.76714384, 0.76743742, 0.71054481,        nan,\n",
       "        0.7447743 , 0.7447743 , 0.60503758,        nan, 0.70191385,\n",
       "        0.70191385]),\n",
       " 'std_test_score': array([5.33771805e-03,            nan, 5.21623649e-03, 6.20184615e-03,\n",
       "        6.60997934e-03,            nan, 4.84960349e-03, 4.46068729e-03,\n",
       "        1.61194779e-03,            nan, 4.44417426e-03, 4.44417426e-03,\n",
       "        5.02349763e-05,            nan, 3.74434457e-03, 3.74434457e-03]),\n",
       " 'rank_test_score': array([ 3, 13,  2,  1,  6, 14,  5,  4,  9, 15,  7,  7, 12, 16, 10, 10],\n",
       "       dtype=int32)}"
      ]
     },
     "execution_count": 31,
     "metadata": {},
     "output_type": "execute_result"
    }
   ],
   "source": [
    "grid.cv_results_"
   ]
  },
  {
   "cell_type": "code",
   "execution_count": 33,
   "metadata": {
    "scrolled": true
   },
   "outputs": [
    {
     "data": {
      "text/plain": [
       "{'mean_fit_time': array([ 0.69407781,  3.04566495, 27.367371  ,  0.58311931,  2.53200603,\n",
       "        23.96312873,  0.3355209 ,  1.58901747, 11.36139504,  0.49810163,\n",
       "         1.52848744,  9.90131164,  0.67009862,  3.52577853, 33.58506632,\n",
       "         0.56271736,  3.3821369 , 33.15204469,  0.53721396,  1.95649918,\n",
       "        13.83561571,  0.49862599,  1.59635504, 14.67721685,  0.96721101,\n",
       "         6.26180593, 58.86880438,  0.87428204,  5.73829428, 53.34383305,\n",
       "         0.65894294,  2.63696194, 20.15514994,  0.64096793,  1.90222732,\n",
       "        13.14073022]),\n",
       " 'std_fit_time': array([3.99084435e-02, 4.05459069e-01, 6.23983369e-01, 9.86495114e-02,\n",
       "        2.99137011e-01, 2.35332975e+00, 4.01583507e-02, 2.25704741e-01,\n",
       "        1.21210899e+00, 3.43011600e-02, 2.14771882e-01, 1.26011884e+00,\n",
       "        8.98575672e-02, 1.51389704e-01, 4.87158447e+00, 1.50403375e-01,\n",
       "        4.06795257e-01, 4.89715429e-01, 2.65869923e-02, 9.03064434e-03,\n",
       "        2.22833098e+00, 5.59520880e-02, 1.93554181e-01, 9.47199077e-01,\n",
       "        4.61831284e-02, 2.05866709e-01, 4.53241667e+00, 4.86369768e-02,\n",
       "        2.32584906e-01, 1.02724819e+00, 1.30816397e-02, 6.00853840e-01,\n",
       "        4.02530029e+00, 4.22362188e-03, 3.27349749e-01, 2.28695716e-01]),\n",
       " 'mean_score_time': array([0.19617311, 0.27810915, 1.51540025, 0.2118206 , 0.30955346,\n",
       "        1.21710078, 0.15516194, 0.33169691, 1.52790991, 0.21613669,\n",
       "        0.3197902 , 0.99763838, 0.17217493, 0.3382268 , 1.20599294,\n",
       "        0.15187518, 0.35473458, 1.71238987, 0.19822375, 0.35714165,\n",
       "        1.34327324, 0.17732096, 0.29693047, 2.0025692 , 0.1998442 ,\n",
       "        0.4139723 , 2.69780374, 0.20888186, 0.41352654, 2.34066383,\n",
       "        0.21973674, 0.39803918, 1.40241416, 0.20819513, 0.26895579,\n",
       "        0.84447527]),\n",
       " 'std_score_time': array([0.0066365 , 0.01992913, 0.30600425, 0.00883147, 0.05431692,\n",
       "        0.34088562, 0.021347  , 0.09289634, 0.20380141, 0.01408689,\n",
       "        0.04072121, 0.27419807, 0.02888511, 0.03184281, 0.41805697,\n",
       "        0.0277409 , 0.01094515, 0.15728625, 0.00074018, 0.00821114,\n",
       "        0.45123057, 0.0145499 , 0.03626296, 0.15228667, 0.00817477,\n",
       "        0.04448707, 0.04385303, 0.00662432, 0.0146941 , 0.39938267,\n",
       "        0.0080718 , 0.08979488, 0.03059128, 0.00469207, 0.04462974,\n",
       "        0.06232514]),\n",
       " 'param_forest__max_depth': masked_array(data=[3, 3, 3, 3, 3, 3, 3, 3, 3, 3, 3, 3, 5, 5, 5, 5, 5, 5,\n",
       "                    5, 5, 5, 5, 5, 5, 10, 10, 10, 10, 10, 10, 10, 10, 10,\n",
       "                    10, 10, 10],\n",
       "              mask=[False, False, False, False, False, False, False, False,\n",
       "                    False, False, False, False, False, False, False, False,\n",
       "                    False, False, False, False, False, False, False, False,\n",
       "                    False, False, False, False, False, False, False, False,\n",
       "                    False, False, False, False],\n",
       "        fill_value='?',\n",
       "             dtype=object),\n",
       " 'param_forest__max_features': masked_array(data=['sqrt', 'sqrt', 'sqrt', 'sqrt', 'sqrt', 'sqrt', 'log2',\n",
       "                    'log2', 'log2', 'log2', 'log2', 'log2', 'sqrt', 'sqrt',\n",
       "                    'sqrt', 'sqrt', 'sqrt', 'sqrt', 'log2', 'log2', 'log2',\n",
       "                    'log2', 'log2', 'log2', 'sqrt', 'sqrt', 'sqrt', 'sqrt',\n",
       "                    'sqrt', 'sqrt', 'log2', 'log2', 'log2', 'log2', 'log2',\n",
       "                    'log2'],\n",
       "              mask=[False, False, False, False, False, False, False, False,\n",
       "                    False, False, False, False, False, False, False, False,\n",
       "                    False, False, False, False, False, False, False, False,\n",
       "                    False, False, False, False, False, False, False, False,\n",
       "                    False, False, False, False],\n",
       "        fill_value='?',\n",
       "             dtype=object),\n",
       " 'param_forest__min_samples_split': masked_array(data=[200, 200, 200, 1000, 1000, 1000, 200, 200, 200, 1000,\n",
       "                    1000, 1000, 200, 200, 200, 1000, 1000, 1000, 200, 200,\n",
       "                    200, 1000, 1000, 1000, 200, 200, 200, 1000, 1000, 1000,\n",
       "                    200, 200, 200, 1000, 1000, 1000],\n",
       "              mask=[False, False, False, False, False, False, False, False,\n",
       "                    False, False, False, False, False, False, False, False,\n",
       "                    False, False, False, False, False, False, False, False,\n",
       "                    False, False, False, False, False, False, False, False,\n",
       "                    False, False, False, False],\n",
       "        fill_value='?',\n",
       "             dtype=object),\n",
       " 'param_forest__n_estimators': masked_array(data=[10, 100, 1000, 10, 100, 1000, 10, 100, 1000, 10, 100,\n",
       "                    1000, 10, 100, 1000, 10, 100, 1000, 10, 100, 1000, 10,\n",
       "                    100, 1000, 10, 100, 1000, 10, 100, 1000, 10, 100, 1000,\n",
       "                    10, 100, 1000],\n",
       "              mask=[False, False, False, False, False, False, False, False,\n",
       "                    False, False, False, False, False, False, False, False,\n",
       "                    False, False, False, False, False, False, False, False,\n",
       "                    False, False, False, False, False, False, False, False,\n",
       "                    False, False, False, False],\n",
       "        fill_value='?',\n",
       "             dtype=object),\n",
       " 'params': [{'forest__max_depth': 3,\n",
       "   'forest__max_features': 'sqrt',\n",
       "   'forest__min_samples_split': 200,\n",
       "   'forest__n_estimators': 10},\n",
       "  {'forest__max_depth': 3,\n",
       "   'forest__max_features': 'sqrt',\n",
       "   'forest__min_samples_split': 200,\n",
       "   'forest__n_estimators': 100},\n",
       "  {'forest__max_depth': 3,\n",
       "   'forest__max_features': 'sqrt',\n",
       "   'forest__min_samples_split': 200,\n",
       "   'forest__n_estimators': 1000},\n",
       "  {'forest__max_depth': 3,\n",
       "   'forest__max_features': 'sqrt',\n",
       "   'forest__min_samples_split': 1000,\n",
       "   'forest__n_estimators': 10},\n",
       "  {'forest__max_depth': 3,\n",
       "   'forest__max_features': 'sqrt',\n",
       "   'forest__min_samples_split': 1000,\n",
       "   'forest__n_estimators': 100},\n",
       "  {'forest__max_depth': 3,\n",
       "   'forest__max_features': 'sqrt',\n",
       "   'forest__min_samples_split': 1000,\n",
       "   'forest__n_estimators': 1000},\n",
       "  {'forest__max_depth': 3,\n",
       "   'forest__max_features': 'log2',\n",
       "   'forest__min_samples_split': 200,\n",
       "   'forest__n_estimators': 10},\n",
       "  {'forest__max_depth': 3,\n",
       "   'forest__max_features': 'log2',\n",
       "   'forest__min_samples_split': 200,\n",
       "   'forest__n_estimators': 100},\n",
       "  {'forest__max_depth': 3,\n",
       "   'forest__max_features': 'log2',\n",
       "   'forest__min_samples_split': 200,\n",
       "   'forest__n_estimators': 1000},\n",
       "  {'forest__max_depth': 3,\n",
       "   'forest__max_features': 'log2',\n",
       "   'forest__min_samples_split': 1000,\n",
       "   'forest__n_estimators': 10},\n",
       "  {'forest__max_depth': 3,\n",
       "   'forest__max_features': 'log2',\n",
       "   'forest__min_samples_split': 1000,\n",
       "   'forest__n_estimators': 100},\n",
       "  {'forest__max_depth': 3,\n",
       "   'forest__max_features': 'log2',\n",
       "   'forest__min_samples_split': 1000,\n",
       "   'forest__n_estimators': 1000},\n",
       "  {'forest__max_depth': 5,\n",
       "   'forest__max_features': 'sqrt',\n",
       "   'forest__min_samples_split': 200,\n",
       "   'forest__n_estimators': 10},\n",
       "  {'forest__max_depth': 5,\n",
       "   'forest__max_features': 'sqrt',\n",
       "   'forest__min_samples_split': 200,\n",
       "   'forest__n_estimators': 100},\n",
       "  {'forest__max_depth': 5,\n",
       "   'forest__max_features': 'sqrt',\n",
       "   'forest__min_samples_split': 200,\n",
       "   'forest__n_estimators': 1000},\n",
       "  {'forest__max_depth': 5,\n",
       "   'forest__max_features': 'sqrt',\n",
       "   'forest__min_samples_split': 1000,\n",
       "   'forest__n_estimators': 10},\n",
       "  {'forest__max_depth': 5,\n",
       "   'forest__max_features': 'sqrt',\n",
       "   'forest__min_samples_split': 1000,\n",
       "   'forest__n_estimators': 100},\n",
       "  {'forest__max_depth': 5,\n",
       "   'forest__max_features': 'sqrt',\n",
       "   'forest__min_samples_split': 1000,\n",
       "   'forest__n_estimators': 1000},\n",
       "  {'forest__max_depth': 5,\n",
       "   'forest__max_features': 'log2',\n",
       "   'forest__min_samples_split': 200,\n",
       "   'forest__n_estimators': 10},\n",
       "  {'forest__max_depth': 5,\n",
       "   'forest__max_features': 'log2',\n",
       "   'forest__min_samples_split': 200,\n",
       "   'forest__n_estimators': 100},\n",
       "  {'forest__max_depth': 5,\n",
       "   'forest__max_features': 'log2',\n",
       "   'forest__min_samples_split': 200,\n",
       "   'forest__n_estimators': 1000},\n",
       "  {'forest__max_depth': 5,\n",
       "   'forest__max_features': 'log2',\n",
       "   'forest__min_samples_split': 1000,\n",
       "   'forest__n_estimators': 10},\n",
       "  {'forest__max_depth': 5,\n",
       "   'forest__max_features': 'log2',\n",
       "   'forest__min_samples_split': 1000,\n",
       "   'forest__n_estimators': 100},\n",
       "  {'forest__max_depth': 5,\n",
       "   'forest__max_features': 'log2',\n",
       "   'forest__min_samples_split': 1000,\n",
       "   'forest__n_estimators': 1000},\n",
       "  {'forest__max_depth': 10,\n",
       "   'forest__max_features': 'sqrt',\n",
       "   'forest__min_samples_split': 200,\n",
       "   'forest__n_estimators': 10},\n",
       "  {'forest__max_depth': 10,\n",
       "   'forest__max_features': 'sqrt',\n",
       "   'forest__min_samples_split': 200,\n",
       "   'forest__n_estimators': 100},\n",
       "  {'forest__max_depth': 10,\n",
       "   'forest__max_features': 'sqrt',\n",
       "   'forest__min_samples_split': 200,\n",
       "   'forest__n_estimators': 1000},\n",
       "  {'forest__max_depth': 10,\n",
       "   'forest__max_features': 'sqrt',\n",
       "   'forest__min_samples_split': 1000,\n",
       "   'forest__n_estimators': 10},\n",
       "  {'forest__max_depth': 10,\n",
       "   'forest__max_features': 'sqrt',\n",
       "   'forest__min_samples_split': 1000,\n",
       "   'forest__n_estimators': 100},\n",
       "  {'forest__max_depth': 10,\n",
       "   'forest__max_features': 'sqrt',\n",
       "   'forest__min_samples_split': 1000,\n",
       "   'forest__n_estimators': 1000},\n",
       "  {'forest__max_depth': 10,\n",
       "   'forest__max_features': 'log2',\n",
       "   'forest__min_samples_split': 200,\n",
       "   'forest__n_estimators': 10},\n",
       "  {'forest__max_depth': 10,\n",
       "   'forest__max_features': 'log2',\n",
       "   'forest__min_samples_split': 200,\n",
       "   'forest__n_estimators': 100},\n",
       "  {'forest__max_depth': 10,\n",
       "   'forest__max_features': 'log2',\n",
       "   'forest__min_samples_split': 200,\n",
       "   'forest__n_estimators': 1000},\n",
       "  {'forest__max_depth': 10,\n",
       "   'forest__max_features': 'log2',\n",
       "   'forest__min_samples_split': 1000,\n",
       "   'forest__n_estimators': 10},\n",
       "  {'forest__max_depth': 10,\n",
       "   'forest__max_features': 'log2',\n",
       "   'forest__min_samples_split': 1000,\n",
       "   'forest__n_estimators': 100},\n",
       "  {'forest__max_depth': 10,\n",
       "   'forest__max_features': 'log2',\n",
       "   'forest__min_samples_split': 1000,\n",
       "   'forest__n_estimators': 1000}],\n",
       " 'split0_test_score': array([0.64723494, 0.61218739, 0.62116943, 0.62046495, 0.62486791,\n",
       "        0.62046495, 0.62962311, 0.60496654, 0.60496654, 0.60496654,\n",
       "        0.60496654, 0.60496654, 0.65516027, 0.64564988, 0.65304685,\n",
       "        0.63649172, 0.66009158, 0.64829165, 0.61201127, 0.60496654,\n",
       "        0.60496654, 0.6238112 , 0.60567101, 0.60496654, 0.72402254,\n",
       "        0.72948221, 0.73335682, 0.69020782, 0.71715393, 0.71046143,\n",
       "        0.63754843, 0.6391335 , 0.63525889, 0.62997534, 0.61835153,\n",
       "        0.62874251]),\n",
       " 'split1_test_score': array([0.6189889 , 0.61881275, 0.61159063, 0.61264753, 0.61194293,\n",
       "        0.61141448, 0.6050731 , 0.6050731 , 0.6050731 , 0.60524925,\n",
       "        0.6050731 , 0.6050731 , 0.65545182, 0.6325524 , 0.6475251 ,\n",
       "        0.68944865, 0.64981504, 0.64171217, 0.61370442, 0.6050731 ,\n",
       "        0.6050731 , 0.6050731 , 0.6050731 , 0.6050731 , 0.72326933,\n",
       "        0.71181962, 0.71798485, 0.70213141, 0.70001761, 0.69984147,\n",
       "        0.62920557, 0.62850097, 0.62726792, 0.61705126, 0.6193412 ,\n",
       "        0.62568258]),\n",
       " 'split2_test_score': array([0.61722741, 0.6189889 , 0.61916505, 0.62533028, 0.6193412 ,\n",
       "        0.61634666, 0.6050731 , 0.6050731 , 0.6050731 , 0.60965299,\n",
       "        0.6050731 , 0.6050731 , 0.66901532, 0.64558746, 0.64805355,\n",
       "        0.67394751, 0.64171217, 0.64118372, 0.62427338, 0.60894839,\n",
       "        0.6050731 , 0.60489695, 0.60665845, 0.6050731 , 0.72221244,\n",
       "        0.73383829, 0.73736128, 0.718161  , 0.70301215, 0.71111503,\n",
       "        0.61881275, 0.63748459, 0.6339616 , 0.61740356, 0.63554694,\n",
       "        0.62656333]),\n",
       " 'mean_test_score': array([0.62781708, 0.61666302, 0.61730837, 0.61948092, 0.61871735,\n",
       "        0.61607536, 0.61325644, 0.60503758, 0.60503758, 0.60662292,\n",
       "        0.60503758, 0.60503758, 0.65987581, 0.64126325, 0.64954183,\n",
       "        0.66662929, 0.6505396 , 0.64372918, 0.61666303, 0.60632934,\n",
       "        0.60503758, 0.61126042, 0.60580085, 0.60503758, 0.7231681 ,\n",
       "        0.72504671, 0.72956765, 0.70350008, 0.7067279 , 0.70713931,\n",
       "        0.62852225, 0.63503968, 0.63216281, 0.62147672, 0.62441323,\n",
       "        0.62699614]),\n",
       " 'std_test_score': array([1.37493177e-02, 3.16556194e-03, 4.12502865e-03, 5.22425813e-03,\n",
       "        5.29501000e-03, 3.69981684e-03, 1.15729832e-02, 5.02349763e-05,\n",
       "        5.02349763e-05, 2.14568301e-03, 5.02349763e-05, 5.02349763e-05,\n",
       "        6.46371238e-03, 6.15954816e-03, 2.48779162e-03, 2.22302541e-02,\n",
       "        7.52083374e-03, 3.23335839e-03, 5.42554781e-03, 1.85245587e-03,\n",
       "        5.02349763e-05, 8.87503480e-03, 6.53693831e-04, 5.02349763e-05,\n",
       "        7.42431702e-04, 9.52052996e-03, 8.35184035e-03, 1.14528023e-02,\n",
       "        7.47299003e-03, 5.16724715e-03, 7.66405507e-03, 4.67231767e-03,\n",
       "        3.50148998e-03, 6.01115485e-03, 7.88308818e-03, 1.28615664e-03]),\n",
       " 'rank_test_score': array([16, 24, 22, 20, 21, 25, 26, 31, 31, 28, 31, 31,  8, 12, 10,  7,  9,\n",
       "        11, 23, 29, 31, 27, 30, 31,  3,  2,  1,  6,  5,  4, 15, 13, 14, 19,\n",
       "        18, 17], dtype=int32)}"
      ]
     },
     "execution_count": 33,
     "metadata": {},
     "output_type": "execute_result"
    }
   ],
   "source": [
    "grid0.cv_results_"
   ]
  },
  {
   "cell_type": "code",
   "execution_count": 34,
   "metadata": {
    "scrolled": true
   },
   "outputs": [
    {
     "data": {
      "text/plain": [
       "{'mean_fit_time': array([2.69328451, 2.91435289, 2.89910197, 2.90830342, 3.06229401,\n",
       "        2.87145591, 3.15210565, 3.03021264, 2.6369346 , 2.91259185,\n",
       "        3.29074017, 3.47029797, 2.92473626, 3.00928156, 3.17744772,\n",
       "        3.22239256]),\n",
       " 'std_fit_time': array([0.54038129, 0.12783706, 0.15197469, 0.32831082, 0.15601342,\n",
       "        0.31244512, 0.25429063, 0.30706449, 0.52241695, 0.29884041,\n",
       "        0.15441558, 0.14589069, 0.04032363, 0.663225  , 0.35486859,\n",
       "        0.40048089]),\n",
       " 'mean_score_time': array([36.188754  , 35.79012005, 33.60862414, 33.4529349 , 50.26694226,\n",
       "        47.81860081, 45.68174076, 45.64601167, 61.72762235, 65.86305189,\n",
       "        61.19389383, 64.19296368, 90.35289113, 94.07705235, 77.07304859,\n",
       "        55.99119743]),\n",
       " 'std_score_time': array([2.12886641, 1.803288  , 1.75028562, 0.26041611, 2.24780316,\n",
       "        4.87447433, 2.25545603, 0.88664439, 0.7701303 , 0.98996467,\n",
       "        5.33972865, 2.21947437, 3.54913972, 2.22189513, 6.94428787,\n",
       "        2.40405733]),\n",
       " 'param_knn__n_neighbors': masked_array(data=[3, 3, 3, 3, 5, 5, 5, 5, 7, 7, 7, 7, 11, 11, 11, 11],\n",
       "              mask=[False, False, False, False, False, False, False, False,\n",
       "                    False, False, False, False, False, False, False, False],\n",
       "        fill_value='?',\n",
       "             dtype=object),\n",
       " 'param_knn__p': masked_array(data=[1, 1, 2, 2, 1, 1, 2, 2, 1, 1, 2, 2, 1, 1, 2, 2],\n",
       "              mask=[False, False, False, False, False, False, False, False,\n",
       "                    False, False, False, False, False, False, False, False],\n",
       "        fill_value='?',\n",
       "             dtype=object),\n",
       " 'param_knn__weights': masked_array(data=['uniform', 'distance', 'uniform', 'distance',\n",
       "                    'uniform', 'distance', 'uniform', 'distance',\n",
       "                    'uniform', 'distance', 'uniform', 'distance',\n",
       "                    'uniform', 'distance', 'uniform', 'distance'],\n",
       "              mask=[False, False, False, False, False, False, False, False,\n",
       "                    False, False, False, False, False, False, False, False],\n",
       "        fill_value='?',\n",
       "             dtype=object),\n",
       " 'params': [{'knn__n_neighbors': 3, 'knn__p': 1, 'knn__weights': 'uniform'},\n",
       "  {'knn__n_neighbors': 3, 'knn__p': 1, 'knn__weights': 'distance'},\n",
       "  {'knn__n_neighbors': 3, 'knn__p': 2, 'knn__weights': 'uniform'},\n",
       "  {'knn__n_neighbors': 3, 'knn__p': 2, 'knn__weights': 'distance'},\n",
       "  {'knn__n_neighbors': 5, 'knn__p': 1, 'knn__weights': 'uniform'},\n",
       "  {'knn__n_neighbors': 5, 'knn__p': 1, 'knn__weights': 'distance'},\n",
       "  {'knn__n_neighbors': 5, 'knn__p': 2, 'knn__weights': 'uniform'},\n",
       "  {'knn__n_neighbors': 5, 'knn__p': 2, 'knn__weights': 'distance'},\n",
       "  {'knn__n_neighbors': 7, 'knn__p': 1, 'knn__weights': 'uniform'},\n",
       "  {'knn__n_neighbors': 7, 'knn__p': 1, 'knn__weights': 'distance'},\n",
       "  {'knn__n_neighbors': 7, 'knn__p': 2, 'knn__weights': 'uniform'},\n",
       "  {'knn__n_neighbors': 7, 'knn__p': 2, 'knn__weights': 'distance'},\n",
       "  {'knn__n_neighbors': 11, 'knn__p': 1, 'knn__weights': 'uniform'},\n",
       "  {'knn__n_neighbors': 11, 'knn__p': 1, 'knn__weights': 'distance'},\n",
       "  {'knn__n_neighbors': 11, 'knn__p': 2, 'knn__weights': 'uniform'},\n",
       "  {'knn__n_neighbors': 11, 'knn__p': 2, 'knn__weights': 'distance'}],\n",
       " 'split0_test_score': array([0.7735118 , 0.76364917, 0.77439239, 0.76047904, 0.77721029,\n",
       "        0.76946108, 0.77439239, 0.76646707, 0.7715745 , 0.77210285,\n",
       "        0.77298344, 0.77034167, 0.76787601, 0.77456851, 0.76505812,\n",
       "        0.77139838]),\n",
       " 'split1_test_score': array([0.77752334, 0.76431214, 0.77576185, 0.76536903, 0.76994892,\n",
       "        0.76765897, 0.76765897, 0.76889202, 0.76237449, 0.77171041,\n",
       "        0.76343139, 0.77153426, 0.75885151, 0.7748811 , 0.75550467,\n",
       "        0.76924432]),\n",
       " 'split2_test_score': array([0.77681874, 0.77047736, 0.77576185, 0.77030122, 0.78227937,\n",
       "        0.77734719, 0.78069403, 0.77805179, 0.77963713, 0.77946098,\n",
       "        0.77787564, 0.77840409, 0.77276731, 0.78439317, 0.77188656,\n",
       "        0.78386472]),\n",
       " 'mean_test_score': array([0.77595129, 0.76614622, 0.77530536, 0.7653831 , 0.77647952,\n",
       "        0.77148908, 0.77424847, 0.77113696, 0.77119537, 0.77442475,\n",
       "        0.77143016, 0.77342667, 0.76649828, 0.77794759, 0.76414978,\n",
       "        0.77483581]),\n",
       " 'std_test_score': array([0.0017488 , 0.00307451, 0.00064557, 0.0040099 , 0.00506034,\n",
       "        0.00420714, 0.00532251, 0.00498874, 0.00705254, 0.00356476,\n",
       "        0.00599826, 0.00355308, 0.00576403, 0.0045595 , 0.00671865,\n",
       "        0.00644468]),\n",
       " 'rank_test_score': array([ 3, 14,  4, 15,  2,  9,  7, 12, 11,  6, 10,  8, 13,  1, 16,  5],\n",
       "       dtype=int32)}"
      ]
     },
     "execution_count": 34,
     "metadata": {},
     "output_type": "execute_result"
    }
   ],
   "source": [
    "grid1.cv_results_"
   ]
  },
  {
   "cell_type": "code",
   "execution_count": 19,
   "metadata": {
    "scrolled": true
   },
   "outputs": [
    {
     "name": "stdout",
     "output_type": "stream",
     "text": [
      "Fitting 3 folds for each of 4 candidates, totalling 12 fits\n"
     ]
    },
    {
     "name": "stderr",
     "output_type": "stream",
     "text": [
      "[Parallel(n_jobs=-2)]: Using backend LokyBackend with 7 concurrent workers.\n",
      "[Parallel(n_jobs=-2)]: Done   4 out of  12 | elapsed: 80.6min remaining: 161.3min\n",
      "[Parallel(n_jobs=-2)]: Done   9 out of  12 | elapsed: 108.2min remaining: 36.1min\n",
      "[Parallel(n_jobs=-2)]: Done  12 out of  12 | elapsed: 148.8min finished\n"
     ]
    },
    {
     "data": {
      "text/plain": [
       "GridSearchCV(cv=3,\n",
       "             estimator=Pipeline(steps=[('col_trans',\n",
       "                                        ColumnTransformer(transformers=[('subpipe_num',\n",
       "                                                                         Pipeline(steps=[('grab_num',\n",
       "                                                                                          FunctionTransformer(func=<function grab_numeric at 0x7ff510bb85e0>)),\n",
       "                                                                                         ('scaler',\n",
       "                                                                                          StandardScaler())]),\n",
       "                                                                         Index(['amount_tsh', 'funder', 'gps_height', 'installer', 'basin', 'region',\n",
       "       'population', 'scheme_management', 'permit', 'extracti...\n",
       "       'population', 'scheme_management', 'permit', 'extraction_type_class',\n",
       "       'management', 'payment', 'quality_group', 'quantity', 'source',\n",
       "       'waterpoint_type_group'],\n",
       "      dtype='object'))])),\n",
       "                                       ('logreg',\n",
       "                                        LogisticRegression(max_iter=10000))]),\n",
       "             n_jobs=-2,\n",
       "             param_grid={'logreg__C': [10, 1.0],\n",
       "                         'logreg__class_weight': ['balanced'],\n",
       "                         'logreg__penalty': ['l1', 'l2'],\n",
       "                         'logreg__solver': ['saga']},\n",
       "             scoring='recall_weighted', verbose=3)"
      ]
     },
     "execution_count": 19,
     "metadata": {},
     "output_type": "execute_result"
    }
   ],
   "source": [
    "# # running grid searches again with recall score instead of accuracy\n",
    "\n",
    "# params2 = {}\n",
    "# params2['logreg__penalty'] = ['l1', 'l2']\n",
    "# params2['logreg__C'] = [10, 1.0] # 1.0 is best each time in accuracy, but 10 is best for recall ....\n",
    "# params2['logreg__solver'] = ['saga'] \n",
    "# params2['logreg__class_weight'] = ['balanced']\n",
    "\n",
    "# grid2 = GridSearchCV(logreg_pipe, param_grid=params2, scoring='recall_weighted', cv=3, n_jobs=-2, verbose=3)\n",
    "\n",
    "# grid2.fit(df_dict['X_train_data_all'], df_dict['y_train_data_all'])"
   ]
  },
  {
   "cell_type": "markdown",
   "metadata": {},
   "source": [
    "Recall scores don't seem to be feasible with our multiclass target. We could encode as binary target. Otherwise we can work only with accuracy.\n",
    "update: recall_weighted should not give an error, retrying with that\n"
   ]
  },
  {
   "cell_type": "code",
   "execution_count": 20,
   "metadata": {},
   "outputs": [
    {
     "data": {
      "text/plain": [
       "(0.6814809180093843,\n",
       " {'logreg__C': 10,\n",
       "  'logreg__class_weight': 'balanced',\n",
       "  'logreg__penalty': 'l1',\n",
       "  'logreg__solver': 'saga'})"
      ]
     },
     "execution_count": 20,
     "metadata": {},
     "output_type": "execute_result"
    }
   ],
   "source": [
    "grid2.best_score_, grid2.best_params_ # weighted recall score and best params"
   ]
  },
  {
   "cell_type": "code",
   "execution_count": 252,
   "metadata": {
    "scrolled": true
   },
   "outputs": [
    {
     "data": {
      "text/plain": [
       "{'functional': {'precision': 0.886236478925774,\n",
       "  'recall': 0.6880973066898349,\n",
       "  'f1-score': 0.7746984023475709,\n",
       "  'support': 3453},\n",
       " 'functional needs repair': {'precision': 0.25037481259370314,\n",
       "  'recall': 0.7914691943127962,\n",
       "  'f1-score': 0.38041002277904323,\n",
       "  'support': 422},\n",
       " 'non functional': {'precision': 0.7594708358388454,\n",
       "  'recall': 0.7004991680532446,\n",
       "  'f1-score': 0.7287939988459319,\n",
       "  'support': 1803},\n",
       " 'accuracy': 0.6997182106375485,\n",
       " 'macro avg': {'precision': 0.6320273757861075,\n",
       "  'recall': 0.7266885563519585,\n",
       "  'f1-score': 0.6279674746575153,\n",
       "  'support': 5678},\n",
       " 'weighted avg': {'precision': 0.7987246653157236,\n",
       "  'recall': 0.6997182106375485,\n",
       "  'f1-score': 0.7308175753501468,\n",
       "  'support': 5678}}"
      ]
     },
     "execution_count": 252,
     "metadata": {},
     "output_type": "execute_result"
    }
   ],
   "source": [
    "# WITHOUT SMOTE, WITH BALANCED WEIGHT -- TEST\n",
    "classification_report(df_dict['y_test_data_all'],\n",
    "                      grid2.best_estimator_.predict(df_dict['X_test_data_all']),\n",
    "                      output_dict=True)"
   ]
  },
  {
   "cell_type": "code",
   "execution_count": null,
   "metadata": {},
   "outputs": [
    {
     "name": "stdout",
     "output_type": "stream",
     "text": [
      "Fitting 3 folds for each of 36 candidates, totalling 108 fits\n"
     ]
    },
    {
     "name": "stderr",
     "output_type": "stream",
     "text": [
      "[Parallel(n_jobs=-2)]: Using backend LokyBackend with 7 concurrent workers.\n",
      "[Parallel(n_jobs=-2)]: Done  18 tasks      | elapsed: 10.4min\n"
     ]
    }
   ],
   "source": [
    "# previous params\n",
    "# {'forest__max_depth': 10, \n",
    "#   'forest__max_features': 'sqrt',\n",
    "#   'forest__min_samples_split': 200,\n",
    "#   'forest__n_estimators': 1000},\n",
    "\n",
    "# params3 = {}\n",
    "# params3['forest__n_estimators'] = [1000, 5000]\n",
    "# params3['forest__max_depth'] = [10, 50, 100]\n",
    "# params3['forest__min_samples_split'] = [200, 20, 2]\n",
    "# params3['forest__max_features'] = ['sqrt', 'log2']\n",
    "\n",
    "\n",
    "# grid3 = GridSearchCV(forest_pipe, param_grid=params3, scoring='recall_weighted', cv=3, n_jobs=-2, verbose=3)\n",
    "\n",
    "# grid3.fit(df_dict['X_train_data_all'], df_dict['y_train_data_all'])"
   ]
  },
  {
   "cell_type": "markdown",
   "metadata": {},
   "source": [
    "The above grid search crashed my computer. could try it with less cores but it seems like it would take almost 2 hours, so tabling this for now"
   ]
  },
  {
   "cell_type": "code",
   "execution_count": null,
   "metadata": {},
   "outputs": [],
   "source": [
    "# params3 = {}\n",
    "# params3['forest__n_estimators'] = [1000, 5000]\n",
    "# params3['forest__max_depth'] = [10, 50, 100]\n",
    "# params3['forest__min_samples_split'] = [200, 20, 2]\n",
    "# params3['forest__max_features'] = ['sqrt', 'log2']\n",
    "\n",
    "# grid3 = GridSearchCV(forest_pipe, param_grid=params3, scoring='recall_weighted', cv=3, n_jobs=-2, verbose=3)\n",
    "\n",
    "# grid3.fit(df_dict['X_train_data_all'], df_dict['y_train_data_all'])"
   ]
  },
  {
   "cell_type": "code",
   "execution_count": null,
   "metadata": {},
   "outputs": [],
   "source": [
    "# {'logreg__C': 1.0, 'logreg__penalty': 'l2', 'logreg__solver': 'saga'}) # previous best\n",
    "# trying out a model\n",
    "LogisticRegression(C=1.0, penalty='l2', solver='saga', max_iter=10000, class_weight=['balanced'] )"
   ]
  },
  {
   "cell_type": "code",
   "execution_count": 46,
   "metadata": {
    "scrolled": true
   },
   "outputs": [],
   "source": [
    "# looking at ways to binary encode a three-valued column; looking into ways to use SMOTE\n",
    "# after finishing this, our instructor Daniel showed us how to use SMOTENC on multiclass categorical variables instead.\n",
    "\n",
    "datacopy = data\n",
    "\n",
    "testrow = datacopy['status_group'].str.contains(pat='needs')\n",
    "tr2 = pd.DataFrame([int(i) for i in testrow])\n",
    "tr2.value_counts()\n",
    "\n",
    "datacopy['bin_status'] = tr2\n",
    "# datacopy['bin_status']"
   ]
  },
  {
   "cell_type": "code",
   "execution_count": 49,
   "metadata": {},
   "outputs": [],
   "source": [
    "smote_cat_cols = list(grab_categorical(df_dict['X_train_data_all']).columns)\n",
    "smote_cat_index = [df_dict['X_train_data_all'].columns.get_loc(c) for c in smote_cat_cols]\n",
    "smtnc = SMOTENC(smote_cat_index, sampling_strategy='auto')\n",
    "X_train_smote_rs, y_train_smote_rs = smtnc.fit_resample(df_dict['X_train_data_all'], df_dict['y_train_data_all'])\n"
   ]
  },
  {
   "cell_type": "code",
   "execution_count": 106,
   "metadata": {},
   "outputs": [
    {
     "data": {
      "text/html": [
       "<div>\n",
       "<style scoped>\n",
       "    .dataframe tbody tr th:only-of-type {\n",
       "        vertical-align: middle;\n",
       "    }\n",
       "\n",
       "    .dataframe tbody tr th {\n",
       "        vertical-align: top;\n",
       "    }\n",
       "\n",
       "    .dataframe thead th {\n",
       "        text-align: right;\n",
       "    }\n",
       "</style>\n",
       "<table border=\"1\" class=\"dataframe\">\n",
       "  <thead>\n",
       "    <tr style=\"text-align: right;\">\n",
       "      <th></th>\n",
       "      <th>amount_tsh</th>\n",
       "      <th>funder</th>\n",
       "      <th>gps_height</th>\n",
       "      <th>installer</th>\n",
       "      <th>basin</th>\n",
       "      <th>region</th>\n",
       "      <th>population</th>\n",
       "      <th>scheme_management</th>\n",
       "      <th>scheme_name</th>\n",
       "      <th>permit</th>\n",
       "      <th>construction_year</th>\n",
       "      <th>extraction_type_class</th>\n",
       "      <th>management</th>\n",
       "      <th>payment</th>\n",
       "      <th>quality_group</th>\n",
       "      <th>quantity</th>\n",
       "      <th>source</th>\n",
       "      <th>waterpoint_type_group</th>\n",
       "    </tr>\n",
       "  </thead>\n",
       "  <tbody>\n",
       "    <tr>\n",
       "      <th>0</th>\n",
       "      <td>0.0</td>\n",
       "      <td>Government Of Tanzania</td>\n",
       "      <td>1479</td>\n",
       "      <td>DWE</td>\n",
       "      <td>Pangani</td>\n",
       "      <td>Arusha</td>\n",
       "      <td>150</td>\n",
       "      <td>VWC</td>\n",
       "      <td>Saitero olosaita pipe line</td>\n",
       "      <td>True</td>\n",
       "      <td>2002</td>\n",
       "      <td>gravity</td>\n",
       "      <td>vwc</td>\n",
       "      <td>never pay</td>\n",
       "      <td>good</td>\n",
       "      <td>insufficient</td>\n",
       "      <td>spring</td>\n",
       "      <td>communal standpipe</td>\n",
       "    </tr>\n",
       "    <tr>\n",
       "      <th>1</th>\n",
       "      <td>10.0</td>\n",
       "      <td>Gen</td>\n",
       "      <td>110</td>\n",
       "      <td>GEN</td>\n",
       "      <td>Ruvuma / Southern Coast</td>\n",
       "      <td>Lindi</td>\n",
       "      <td>231</td>\n",
       "      <td>VWC</td>\n",
       "      <td>GEN Borehole Scheme</td>\n",
       "      <td>False</td>\n",
       "      <td>2011</td>\n",
       "      <td>handpump</td>\n",
       "      <td>vwc</td>\n",
       "      <td>pay per bucket</td>\n",
       "      <td>good</td>\n",
       "      <td>enough</td>\n",
       "      <td>machine dbh</td>\n",
       "      <td>hand pump</td>\n",
       "    </tr>\n",
       "    <tr>\n",
       "      <th>2</th>\n",
       "      <td>250.0</td>\n",
       "      <td>Norad</td>\n",
       "      <td>1046</td>\n",
       "      <td>NORAD</td>\n",
       "      <td>Lake Tanganyika</td>\n",
       "      <td>Kigoma</td>\n",
       "      <td>350</td>\n",
       "      <td>Water authority</td>\n",
       "      <td>Kabali</td>\n",
       "      <td>True</td>\n",
       "      <td>1986</td>\n",
       "      <td>gravity</td>\n",
       "      <td>water board</td>\n",
       "      <td>pay monthly</td>\n",
       "      <td>good</td>\n",
       "      <td>insufficient</td>\n",
       "      <td>river</td>\n",
       "      <td>communal standpipe</td>\n",
       "    </tr>\n",
       "    <tr>\n",
       "      <th>3</th>\n",
       "      <td>1000.0</td>\n",
       "      <td>Dhv</td>\n",
       "      <td>318</td>\n",
       "      <td>DWE</td>\n",
       "      <td>Rufiji</td>\n",
       "      <td>Morogoro</td>\n",
       "      <td>350</td>\n",
       "      <td>Water Board</td>\n",
       "      <td>Mtimbira</td>\n",
       "      <td>True</td>\n",
       "      <td>1995</td>\n",
       "      <td>gravity</td>\n",
       "      <td>wug</td>\n",
       "      <td>pay monthly</td>\n",
       "      <td>good</td>\n",
       "      <td>enough</td>\n",
       "      <td>river</td>\n",
       "      <td>communal standpipe</td>\n",
       "    </tr>\n",
       "    <tr>\n",
       "      <th>4</th>\n",
       "      <td>20000.0</td>\n",
       "      <td>Oxfam</td>\n",
       "      <td>1515</td>\n",
       "      <td>DWE</td>\n",
       "      <td>Pangani</td>\n",
       "      <td>Arusha</td>\n",
       "      <td>150</td>\n",
       "      <td>VWC</td>\n",
       "      <td>Nabaiye pipe line</td>\n",
       "      <td>True</td>\n",
       "      <td>1995</td>\n",
       "      <td>gravity</td>\n",
       "      <td>vwc</td>\n",
       "      <td>pay monthly</td>\n",
       "      <td>good</td>\n",
       "      <td>insufficient</td>\n",
       "      <td>spring</td>\n",
       "      <td>communal standpipe</td>\n",
       "    </tr>\n",
       "    <tr>\n",
       "      <th>...</th>\n",
       "      <td>...</td>\n",
       "      <td>...</td>\n",
       "      <td>...</td>\n",
       "      <td>...</td>\n",
       "      <td>...</td>\n",
       "      <td>...</td>\n",
       "      <td>...</td>\n",
       "      <td>...</td>\n",
       "      <td>...</td>\n",
       "      <td>...</td>\n",
       "      <td>...</td>\n",
       "      <td>...</td>\n",
       "      <td>...</td>\n",
       "      <td>...</td>\n",
       "      <td>...</td>\n",
       "      <td>...</td>\n",
       "      <td>...</td>\n",
       "      <td>...</td>\n",
       "    </tr>\n",
       "    <tr>\n",
       "      <th>30817</th>\n",
       "      <td>0.0</td>\n",
       "      <td>Norad</td>\n",
       "      <td>1850</td>\n",
       "      <td>Norad</td>\n",
       "      <td>Lake Tanganyika</td>\n",
       "      <td>Rukwa</td>\n",
       "      <td>601</td>\n",
       "      <td>VWC</td>\n",
       "      <td>Mradi wa maji wa matan</td>\n",
       "      <td>True</td>\n",
       "      <td>1982</td>\n",
       "      <td>gravity</td>\n",
       "      <td>vwc</td>\n",
       "      <td>never pay</td>\n",
       "      <td>good</td>\n",
       "      <td>dry</td>\n",
       "      <td>river</td>\n",
       "      <td>communal standpipe</td>\n",
       "    </tr>\n",
       "    <tr>\n",
       "      <th>30818</th>\n",
       "      <td>500.0</td>\n",
       "      <td>Bened</td>\n",
       "      <td>2104</td>\n",
       "      <td>Villa</td>\n",
       "      <td>Rufiji</td>\n",
       "      <td>Iringa</td>\n",
       "      <td>37</td>\n",
       "      <td>VWC</td>\n",
       "      <td>Lufuo</td>\n",
       "      <td>False</td>\n",
       "      <td>2003</td>\n",
       "      <td>submersible</td>\n",
       "      <td>vwc</td>\n",
       "      <td>pay monthly</td>\n",
       "      <td>good</td>\n",
       "      <td>enough</td>\n",
       "      <td>river</td>\n",
       "      <td>communal standpipe</td>\n",
       "    </tr>\n",
       "    <tr>\n",
       "      <th>30819</th>\n",
       "      <td>0.0</td>\n",
       "      <td>Kiliwater</td>\n",
       "      <td>845</td>\n",
       "      <td>Kiliwater</td>\n",
       "      <td>Pangani</td>\n",
       "      <td>Kilimanjaro</td>\n",
       "      <td>1</td>\n",
       "      <td>Company</td>\n",
       "      <td>Holili water supply</td>\n",
       "      <td>True</td>\n",
       "      <td>2003</td>\n",
       "      <td>gravity</td>\n",
       "      <td>company</td>\n",
       "      <td>pay monthly</td>\n",
       "      <td>good</td>\n",
       "      <td>insufficient</td>\n",
       "      <td>spring</td>\n",
       "      <td>communal standpipe</td>\n",
       "    </tr>\n",
       "    <tr>\n",
       "      <th>30820</th>\n",
       "      <td>0.0</td>\n",
       "      <td>World Bank</td>\n",
       "      <td>1555</td>\n",
       "      <td>Government</td>\n",
       "      <td>Internal</td>\n",
       "      <td>Manyara</td>\n",
       "      <td>1</td>\n",
       "      <td>VWC</td>\n",
       "      <td>World banks Water supplying</td>\n",
       "      <td>True</td>\n",
       "      <td>2011</td>\n",
       "      <td>submersible</td>\n",
       "      <td>vwc</td>\n",
       "      <td>never pay</td>\n",
       "      <td>good</td>\n",
       "      <td>enough</td>\n",
       "      <td>machine dbh</td>\n",
       "      <td>communal standpipe</td>\n",
       "    </tr>\n",
       "    <tr>\n",
       "      <th>30821</th>\n",
       "      <td>0.0</td>\n",
       "      <td>Go</td>\n",
       "      <td>1200</td>\n",
       "      <td>Go</td>\n",
       "      <td>Wami / Ruvu</td>\n",
       "      <td>Morogoro</td>\n",
       "      <td>143</td>\n",
       "      <td>VWC</td>\n",
       "      <td>Ga</td>\n",
       "      <td>True</td>\n",
       "      <td>2000</td>\n",
       "      <td>gravity</td>\n",
       "      <td>vwc</td>\n",
       "      <td>never pay</td>\n",
       "      <td>good</td>\n",
       "      <td>enough</td>\n",
       "      <td>spring</td>\n",
       "      <td>communal standpipe</td>\n",
       "    </tr>\n",
       "  </tbody>\n",
       "</table>\n",
       "<p>30822 rows × 18 columns</p>\n",
       "</div>"
      ],
      "text/plain": [
       "       amount_tsh                  funder  gps_height   installer  \\\n",
       "0             0.0  Government Of Tanzania        1479         DWE   \n",
       "1            10.0                     Gen         110         GEN   \n",
       "2           250.0                   Norad        1046       NORAD   \n",
       "3          1000.0                     Dhv         318         DWE   \n",
       "4         20000.0                   Oxfam        1515         DWE   \n",
       "...           ...                     ...         ...         ...   \n",
       "30817         0.0                   Norad        1850       Norad   \n",
       "30818       500.0                   Bened        2104       Villa   \n",
       "30819         0.0               Kiliwater         845   Kiliwater   \n",
       "30820         0.0              World Bank        1555  Government   \n",
       "30821         0.0                      Go        1200          Go   \n",
       "\n",
       "                         basin       region  population scheme_management  \\\n",
       "0                      Pangani       Arusha         150               VWC   \n",
       "1      Ruvuma / Southern Coast        Lindi         231               VWC   \n",
       "2              Lake Tanganyika       Kigoma         350   Water authority   \n",
       "3                       Rufiji     Morogoro         350       Water Board   \n",
       "4                      Pangani       Arusha         150               VWC   \n",
       "...                        ...          ...         ...               ...   \n",
       "30817          Lake Tanganyika        Rukwa         601               VWC   \n",
       "30818                   Rufiji       Iringa          37               VWC   \n",
       "30819                  Pangani  Kilimanjaro           1           Company   \n",
       "30820                 Internal      Manyara           1               VWC   \n",
       "30821              Wami / Ruvu     Morogoro         143               VWC   \n",
       "\n",
       "                       scheme_name permit  construction_year  \\\n",
       "0       Saitero olosaita pipe line   True               2002   \n",
       "1              GEN Borehole Scheme  False               2011   \n",
       "2                           Kabali   True               1986   \n",
       "3                         Mtimbira   True               1995   \n",
       "4                Nabaiye pipe line   True               1995   \n",
       "...                            ...    ...                ...   \n",
       "30817       Mradi wa maji wa matan   True               1982   \n",
       "30818                        Lufuo  False               2003   \n",
       "30819          Holili water supply   True               2003   \n",
       "30820  World banks Water supplying   True               2011   \n",
       "30821                           Ga   True               2000   \n",
       "\n",
       "      extraction_type_class   management         payment quality_group  \\\n",
       "0                   gravity          vwc       never pay          good   \n",
       "1                  handpump          vwc  pay per bucket          good   \n",
       "2                   gravity  water board     pay monthly          good   \n",
       "3                   gravity          wug     pay monthly          good   \n",
       "4                   gravity          vwc     pay monthly          good   \n",
       "...                     ...          ...             ...           ...   \n",
       "30817               gravity          vwc       never pay          good   \n",
       "30818           submersible          vwc     pay monthly          good   \n",
       "30819               gravity      company     pay monthly          good   \n",
       "30820           submersible          vwc       never pay          good   \n",
       "30821               gravity          vwc       never pay          good   \n",
       "\n",
       "           quantity       source waterpoint_type_group  \n",
       "0      insufficient       spring    communal standpipe  \n",
       "1            enough  machine dbh             hand pump  \n",
       "2      insufficient        river    communal standpipe  \n",
       "3            enough        river    communal standpipe  \n",
       "4      insufficient       spring    communal standpipe  \n",
       "...             ...          ...                   ...  \n",
       "30817           dry        river    communal standpipe  \n",
       "30818        enough        river    communal standpipe  \n",
       "30819  insufficient       spring    communal standpipe  \n",
       "30820        enough  machine dbh    communal standpipe  \n",
       "30821        enough       spring    communal standpipe  \n",
       "\n",
       "[30822 rows x 18 columns]"
      ]
     },
     "execution_count": 106,
     "metadata": {},
     "output_type": "execute_result"
    }
   ],
   "source": [
    "X_train_smote_rs"
   ]
  },
  {
   "cell_type": "code",
   "execution_count": 50,
   "metadata": {},
   "outputs": [
    {
     "name": "stdout",
     "output_type": "stream",
     "text": [
      "Fitting 3 folds for each of 12 candidates, totalling 36 fits\n"
     ]
    },
    {
     "name": "stderr",
     "output_type": "stream",
     "text": [
      "[Parallel(n_jobs=-2)]: Using backend LokyBackend with 7 concurrent workers.\n",
      "[Parallel(n_jobs=-2)]: Done  18 tasks      | elapsed: 118.2min\n",
      "[Parallel(n_jobs=-2)]: Done  36 out of  36 | elapsed: 165.4min remaining:    0.0s\n",
      "[Parallel(n_jobs=-2)]: Done  36 out of  36 | elapsed: 165.4min finished\n"
     ]
    },
    {
     "data": {
      "text/plain": [
       "GridSearchCV(cv=3,\n",
       "             estimator=Pipeline(steps=[('col_trans',\n",
       "                                        ColumnTransformer(transformers=[('subpipe_num',\n",
       "                                                                         Pipeline(steps=[('grab_num',\n",
       "                                                                                          FunctionTransformer(func=<function grab_numeric at 0x7ff510bb85e0>)),\n",
       "                                                                                         ('scaler',\n",
       "                                                                                          StandardScaler())]),\n",
       "                                                                         Index(['amount_tsh', 'funder', 'gps_height', 'installer', 'basin', 'region',\n",
       "       'population', 'scheme_management', 'permit', 'extracti...\n",
       "       'population', 'scheme_management', 'permit', 'extraction_type_class',\n",
       "       'management', 'payment', 'quality_group', 'quantity', 'source',\n",
       "       'waterpoint_type_group'],\n",
       "      dtype='object'))])),\n",
       "                                       ('logreg',\n",
       "                                        LogisticRegression(max_iter=10000))]),\n",
       "             n_jobs=-2,\n",
       "             param_grid={'logreg__C': [10, 1.0, 0.1],\n",
       "                         'logreg__penalty': ['l1', 'l2'],\n",
       "                         'logreg__solver': ['saga', 'lbfgs']},\n",
       "             scoring='recall_weighted', verbose=3)"
      ]
     },
     "execution_count": 50,
     "metadata": {},
     "output_type": "execute_result"
    }
   ],
   "source": [
    "# one more grid search to compare SMOTENC with class_weight=balanced\n",
    "\n",
    "params4 = {}\n",
    "params4['logreg__penalty'] = ['l1', 'l2']\n",
    "params4['logreg__C'] = [10, 1.0, .10] \n",
    "params4['logreg__solver'] = ['saga', 'lbfgs'] \n",
    "#current\n",
    "grid4 = GridSearchCV(logreg_pipe, param_grid=params4, scoring='recall_weighted', cv=3, n_jobs=-2, verbose=3)\n",
    "\n",
    "grid4.fit(X_train_smote_rs, y_train_smote_rs)"
   ]
  },
  {
   "cell_type": "code",
   "execution_count": 52,
   "metadata": {},
   "outputs": [
    {
     "data": {
      "text/plain": [
       "(0.7500811108948153,\n",
       " {'logreg__C': 10, 'logreg__penalty': 'l1', 'logreg__solver': 'saga'})"
      ]
     },
     "execution_count": 52,
     "metadata": {},
     "output_type": "execute_result"
    }
   ],
   "source": [
    "grid4.best_score_, grid4.best_params_"
   ]
  },
  {
   "cell_type": "code",
   "execution_count": 251,
   "metadata": {
    "scrolled": true
   },
   "outputs": [
    {
     "data": {
      "text/plain": [
       "{'functional': {'precision': 0.8702372393961179,\n",
       "  'recall': 0.7011294526498697,\n",
       "  'f1-score': 0.7765838011226944,\n",
       "  'support': 3453},\n",
       " 'functional needs repair': {'precision': 0.24289195775792038,\n",
       "  'recall': 0.7085308056872038,\n",
       "  'f1-score': 0.3617664851784634,\n",
       "  'support': 422},\n",
       " 'non functional': {'precision': 0.7549549549549549,\n",
       "  'recall': 0.697171381031614,\n",
       "  'f1-score': 0.7249134948096886,\n",
       "  'support': 1803},\n",
       " 'accuracy': 0.7004226840436774,\n",
       " 'macro avg': {'precision': 0.6226947173696643,\n",
       "  'recall': 0.7022772131228958,\n",
       "  'f1-score': 0.6210879270369488,\n",
       "  'support': 5678},\n",
       " 'weighted avg': {'precision': 0.787004821696446,\n",
       "  'recall': 0.7004226840436774,\n",
       "  'f1-score': 0.7293463108777464,\n",
       "  'support': 5678}}"
      ]
     },
     "execution_count": 251,
     "metadata": {},
     "output_type": "execute_result"
    }
   ],
   "source": [
    "#WITH SMOTENC -- TEST\n",
    "classification_report(df_dict['y_test_data_all'],\n",
    "                      grid4.best_estimator_.predict(df_dict['X_test_data_all']),\n",
    "                      output_dict=True)"
   ]
  },
  {
   "cell_type": "code",
   "execution_count": 126,
   "metadata": {
    "scrolled": true
   },
   "outputs": [
    {
     "data": {
      "text/plain": [
       "Index(['amount_tsh', 'funder', 'gps_height', 'installer', 'basin', 'region',\n",
       "       'population', 'scheme_management', 'scheme_name', 'permit',\n",
       "       'construction_year', 'extraction_type_class', 'management', 'payment',\n",
       "       'quality_group', 'quantity', 'source', 'waterpoint_type_group'],\n",
       "      dtype='object')"
      ]
     },
     "execution_count": 126,
     "metadata": {},
     "output_type": "execute_result"
    }
   ],
   "source": [
    "df_dict['X_train_data_all'].columns"
   ]
  },
  {
   "cell_type": "code",
   "execution_count": 249,
   "metadata": {
    "scrolled": true
   },
   "outputs": [
    {
     "data": {
      "text/plain": [
       "(array([0, 1, 2]),\n",
       " [Text(0, 0, 'functional'),\n",
       "  Text(1, 0, 'functional needs repair'),\n",
       "  Text(2, 0, 'non functional')])"
      ]
     },
     "execution_count": 249,
     "metadata": {},
     "output_type": "execute_result"
    },
    {
     "data": {
      "image/png": "[encoded data removed]",
      "text/plain": [
       "<Figure size 432x288 with 2 Axes>"
      ]
     },
     "metadata": {},
     "output_type": "display_data"
    }
   ],
   "source": [
    "\n",
    "conf_matrix = plot_confusion_matrix(grid2.best_estimator_, df_dict['X_test_data_all'], df_dict['y_test_data_all'])\n",
    "plt.grid('off')\n",
    "plt.xticks(rotation=45)"
   ]
  },
  {
   "cell_type": "code",
   "execution_count": 254,
   "metadata": {},
   "outputs": [
    {
     "data": {
      "text/html": [
       "<div>\n",
       "<style scoped>\n",
       "    .dataframe tbody tr th:only-of-type {\n",
       "        vertical-align: middle;\n",
       "    }\n",
       "\n",
       "    .dataframe tbody tr th {\n",
       "        vertical-align: top;\n",
       "    }\n",
       "\n",
       "    .dataframe thead th {\n",
       "        text-align: right;\n",
       "    }\n",
       "</style>\n",
       "<table border=\"1\" class=\"dataframe\">\n",
       "  <thead>\n",
       "    <tr style=\"text-align: right;\">\n",
       "      <th></th>\n",
       "      <th>features</th>\n",
       "      <th>coef</th>\n",
       "    </tr>\n",
       "  </thead>\n",
       "  <tbody>\n",
       "    <tr>\n",
       "      <th>17</th>\n",
       "      <td>waterpoint_type_group</td>\n",
       "      <td>1.497198</td>\n",
       "    </tr>\n",
       "    <tr>\n",
       "      <th>15</th>\n",
       "      <td>quantity</td>\n",
       "      <td>1.259510</td>\n",
       "    </tr>\n",
       "    <tr>\n",
       "      <th>7</th>\n",
       "      <td>scheme_management</td>\n",
       "      <td>0.644359</td>\n",
       "    </tr>\n",
       "    <tr>\n",
       "      <th>4</th>\n",
       "      <td>basin</td>\n",
       "      <td>0.488439</td>\n",
       "    </tr>\n",
       "    <tr>\n",
       "      <th>6</th>\n",
       "      <td>population</td>\n",
       "      <td>0.460228</td>\n",
       "    </tr>\n",
       "    <tr>\n",
       "      <th>12</th>\n",
       "      <td>management</td>\n",
       "      <td>0.436565</td>\n",
       "    </tr>\n",
       "    <tr>\n",
       "      <th>3</th>\n",
       "      <td>installer</td>\n",
       "      <td>0.435325</td>\n",
       "    </tr>\n",
       "    <tr>\n",
       "      <th>9</th>\n",
       "      <td>permit</td>\n",
       "      <td>0.397621</td>\n",
       "    </tr>\n",
       "    <tr>\n",
       "      <th>11</th>\n",
       "      <td>extraction_type_class</td>\n",
       "      <td>0.373370</td>\n",
       "    </tr>\n",
       "    <tr>\n",
       "      <th>5</th>\n",
       "      <td>region</td>\n",
       "      <td>0.364512</td>\n",
       "    </tr>\n",
       "    <tr>\n",
       "      <th>16</th>\n",
       "      <td>source</td>\n",
       "      <td>0.354283</td>\n",
       "    </tr>\n",
       "    <tr>\n",
       "      <th>8</th>\n",
       "      <td>scheme_name</td>\n",
       "      <td>0.338908</td>\n",
       "    </tr>\n",
       "    <tr>\n",
       "      <th>14</th>\n",
       "      <td>quality_group</td>\n",
       "      <td>0.275670</td>\n",
       "    </tr>\n",
       "    <tr>\n",
       "      <th>2</th>\n",
       "      <td>gps_height</td>\n",
       "      <td>0.033062</td>\n",
       "    </tr>\n",
       "    <tr>\n",
       "      <th>0</th>\n",
       "      <td>amount_tsh</td>\n",
       "      <td>0.031365</td>\n",
       "    </tr>\n",
       "    <tr>\n",
       "      <th>1</th>\n",
       "      <td>funder</td>\n",
       "      <td>0.000000</td>\n",
       "    </tr>\n",
       "    <tr>\n",
       "      <th>10</th>\n",
       "      <td>construction_year</td>\n",
       "      <td>0.000000</td>\n",
       "    </tr>\n",
       "    <tr>\n",
       "      <th>13</th>\n",
       "      <td>payment</td>\n",
       "      <td>0.000000</td>\n",
       "    </tr>\n",
       "  </tbody>\n",
       "</table>\n",
       "</div>"
      ],
      "text/plain": [
       "                 features      coef\n",
       "17  waterpoint_type_group  1.497198\n",
       "15               quantity  1.259510\n",
       "7       scheme_management  0.644359\n",
       "4                   basin  0.488439\n",
       "6              population  0.460228\n",
       "12             management  0.436565\n",
       "3               installer  0.435325\n",
       "9                  permit  0.397621\n",
       "11  extraction_type_class  0.373370\n",
       "5                  region  0.364512\n",
       "16                 source  0.354283\n",
       "8             scheme_name  0.338908\n",
       "14          quality_group  0.275670\n",
       "2              gps_height  0.033062\n",
       "0              amount_tsh  0.031365\n",
       "1                  funder  0.000000\n",
       "10      construction_year  0.000000\n",
       "13                payment  0.000000"
      ]
     },
     "execution_count": 254,
     "metadata": {},
     "output_type": "execute_result"
    }
   ],
   "source": [
    "# Finding feature importances for our logistic regression (the long way)\n",
    "\n",
    "coefs = grid2.best_estimator_.named_steps['logreg'].coef_[0]\n",
    "# cvals = coefs = grid4.best_estimator_.named_steps['logreg'].coef_\n",
    "# classes = grid4.best_estimator_.named_steps['logreg'].classes_\n",
    "weights = grid2.best_estimator_.named_steps['logreg'].intercept_\n",
    "nfeat = grid2.best_estimator_.named_steps['logreg'].n_features_in_\n",
    "feat_imp = pd.concat([pd.DataFrame(df_dict['X_train_data_all'].columns),pd.DataFrame(np.transpose(coefs))], axis = 1, names=['feature', 'coef'])\n",
    "imp2 = pd.DataFrame(zip(df_dict['X_train_data_all'].columns, np.transpose(grid4.best_estimator_.named_steps['logreg'].coef_.tolist()[0])), columns=['features', 'coef'])\n",
    "\n",
    "# feats = dict(zip(classes, coefs)) # doesn' work, classes_ only shows y\n",
    "# coefs[:70]\n",
    "# feats\n",
    "# nfeat\n",
    "# grid4.best_estimator_.named_steps['logreg'].n_iter_\n",
    "# cvals\n",
    "\n",
    "imp2['coef'] = imp2['coef'].map(abs)\n",
    "\n",
    "imp2.sort_values('coef', ascending=False)"
   ]
  },
  {
   "cell_type": "code",
   "execution_count": 255,
   "metadata": {
    "scrolled": true
   },
   "outputs": [
    {
     "data": {
      "image/png": "[encoded data removed]",
      "text/plain": [
       "<Figure size 1080x504 with 1 Axes>"
      ]
     },
     "metadata": {},
     "output_type": "display_data"
    }
   ],
   "source": [
    "# Feature importances plot\n",
    "fig, ax = plt.subplots(figsize=(15, 7))\n",
    "pal = ['orange', 'orange', 'orange', 'grey', 'grey', 'grey', 'grey', 'grey', 'grey', \n",
    "       'grey', 'grey', 'grey', 'grey', 'grey', 'grey', 'grey', 'grey', 'grey']\n",
    "\n",
    "plt.xticks(rotation=45)\n",
    "\n",
    "sns.barplot(data=imp2.sort_values('coef', ascending=False), x='features', y='coef',\n",
    "            palette=pal, dodge=False)\n",
    "ax.set_ylabel('Importance')\n",
    "ax.set_xlabel('Features')\n",
    "ax.set_xticklabels(['Pump Type','Quantity','Operator Grp','Water Basin','Population',\n",
    "                    'Management', 'Installer', 'Permit', 'Extractn Type', 'Region',\n",
    "                    'Source', 'Operator Loc', 'H2O Qual', 'Elevation','Head Pressure',\n",
    "                    'Funder', 'Const Year', 'Payment'])\n",
    "sns.set(rc={'axes.facecolor':'white', 'figure.facecolor':'white'})\n"
   ]
  },
  {
   "cell_type": "code",
   "execution_count": null,
   "metadata": {},
   "outputs": [],
   "source": []
  }
 ],
 "metadata": {
  "kernelspec": {
   "display_name": "Python (learn-env)",
   "language": "python",
   "name": "learn-env"
  },
  "language_info": {
   "codemirror_mode": {
    "name": "ipython",
    "version": 3
   },
   "file_extension": ".py",
   "mimetype": "text/x-python",
   "name": "python",
   "nbconvert_exporter": "python",
   "pygments_lexer": "ipython3",
   "version": "3.8.5"
  }
 },
 "nbformat": 4,
 "nbformat_minor": 4
}
