{
 "cells": [
  {
   "cell_type": "markdown",
   "metadata": {},
   "source": [
    "# Tanzania's Water Wells\n",
    "\\\n",
    "\\\n",
    "![Blue logo of a Water Droplet made out of hands with Africa in the middle with the words The Water Project](images/TheWaterProject.png)"
   ]
  },
  {
   "cell_type": "markdown",
   "metadata": {},
   "source": [
    "## Overview\n",
    "\n",
    "The Water Project is a non-profit organization which helps to reduce water scarcity in sub-Saharan Africa by providing the necessary resources for water well construction. Our team is helping The Water Project by using machine learning models to predict the functionality of wells throughout Tanzania. More specifically, we aim to identify wells that are in working condition but are in need of repair to guide The Water Project's future work in this region. This allows them to maximize water access while allocating resources in the most efficient way."
   ]
  },
  {
   "cell_type": "markdown",
   "metadata": {},
   "source": [
    "## Data Understanding\n",
    "\n",
    "The source of our data was [Taarifa](http://taarifa.org/) organization and the [Tanzanian Ministry of Water](http://maji.go.tz/). The dataset contained over 59000 rows of 40 feature columns describing waterpoints in the region installed between the years 1960 and 2013. It was hosted at [drivendata.org](https://www.drivendata.org/competitions/7/pump-it-up-data-mining-the-water-table/page/23/) as a data analysis competition. If you want descriptions of each feature, you can find them [here](https://www.drivendata.org/competitions/7/pump-it-up-data-mining-the-water-table/page/25/)."
   ]
  },
  {
   "cell_type": "code",
   "execution_count": 45,
   "metadata": {},
   "outputs": [],
   "source": [
    "# The libraries we need for this project\n",
    "\n",
    "import pandas as pd\n",
    "import numpy as np\n",
    "import seaborn as sns\n",
    "from matplotlib import pyplot as plt\n",
    "from sklearn.model_selection import train_test_split, GridSearchCV, cross_val_score\n",
    "from sklearn.preprocessing import StandardScaler, OneHotEncoder, FunctionTransformer\n",
    "from sklearn.compose import ColumnTransformer\n",
    "from sklearn.pipeline import Pipeline\n",
    "from sklearn.dummy import DummyClassifier\n",
    "from sklearn.linear_model import LogisticRegression\n",
    "from sklearn.neighbors import KNeighborsClassifier\n",
    "from sklearn.ensemble import RandomForestClassifier\n",
    "from sklearn.metrics import plot_confusion_matrix, classification_report, recall_score\n",
    "from imblearn.over_sampling import SMOTENC"
   ]
  },
  {
   "cell_type": "code",
   "execution_count": 14,
   "metadata": {},
   "outputs": [
    {
     "name": "stdout",
     "output_type": "stream",
     "text": [
      "<class 'pandas.core.frame.DataFrame'>\n",
      "Int64Index: 59400 entries, 0 to 59399\n",
      "Data columns (total 41 columns):\n",
      " #   Column                 Non-Null Count  Dtype  \n",
      "---  ------                 --------------  -----  \n",
      " 0   id                     59400 non-null  int64  \n",
      " 1   amount_tsh             59400 non-null  float64\n",
      " 2   date_recorded          59400 non-null  object \n",
      " 3   funder                 55765 non-null  object \n",
      " 4   gps_height             59400 non-null  int64  \n",
      " 5   installer              55745 non-null  object \n",
      " 6   longitude              59400 non-null  float64\n",
      " 7   latitude               59400 non-null  float64\n",
      " 8   wpt_name               59400 non-null  object \n",
      " 9   num_private            59400 non-null  int64  \n",
      " 10  basin                  59400 non-null  object \n",
      " 11  subvillage             59029 non-null  object \n",
      " 12  region                 59400 non-null  object \n",
      " 13  region_code            59400 non-null  int64  \n",
      " 14  district_code          59400 non-null  int64  \n",
      " 15  lga                    59400 non-null  object \n",
      " 16  ward                   59400 non-null  object \n",
      " 17  population             59400 non-null  int64  \n",
      " 18  public_meeting         56066 non-null  object \n",
      " 19  recorded_by            59400 non-null  object \n",
      " 20  scheme_management      55523 non-null  object \n",
      " 21  scheme_name            31234 non-null  object \n",
      " 22  permit                 56344 non-null  object \n",
      " 23  construction_year      59400 non-null  int64  \n",
      " 24  extraction_type        59400 non-null  object \n",
      " 25  extraction_type_group  59400 non-null  object \n",
      " 26  extraction_type_class  59400 non-null  object \n",
      " 27  management             59400 non-null  object \n",
      " 28  management_group       59400 non-null  object \n",
      " 29  payment                59400 non-null  object \n",
      " 30  payment_type           59400 non-null  object \n",
      " 31  water_quality          59400 non-null  object \n",
      " 32  quality_group          59400 non-null  object \n",
      " 33  quantity               59400 non-null  object \n",
      " 34  quantity_group         59400 non-null  object \n",
      " 35  source                 59400 non-null  object \n",
      " 36  source_type            59400 non-null  object \n",
      " 37  source_class           59400 non-null  object \n",
      " 38  waterpoint_type        59400 non-null  object \n",
      " 39  waterpoint_type_group  59400 non-null  object \n",
      " 40  status_group           59400 non-null  object \n",
      "dtypes: float64(3), int64(7), object(31)\n",
      "memory usage: 19.0+ MB\n"
     ]
    }
   ],
   "source": [
    "# importing feature data, characteristics of the waterpoints\n",
    "training_vals = pd.read_csv('./data/training_vals.csv')\n",
    "# importing target data, the functionality of the wells\n",
    "training_labels = pd.read_csv('./data/training_labels.csv')\n",
    "data = pd.merge(training_vals, training_labels)\n",
    "data.info()"
   ]
  },
  {
   "cell_type": "markdown",
   "metadata": {},
   "source": [
    "## Data Preparation\n",
    "\n",
    "Once the data was imported, we analyzed it for nulls and missing values, as well as inspected each column for relevancy to our project."
   ]
  },
  {
   "cell_type": "code",
   "execution_count": 6,
   "metadata": {},
   "outputs": [
    {
     "data": {
      "text/plain": [
       "id                           0\n",
       "amount_tsh                   0\n",
       "date_recorded                0\n",
       "funder                    3635\n",
       "gps_height                   0\n",
       "installer                 3655\n",
       "longitude                    0\n",
       "latitude                     0\n",
       "wpt_name                     0\n",
       "num_private                  0\n",
       "basin                        0\n",
       "subvillage                 371\n",
       "region                       0\n",
       "region_code                  0\n",
       "district_code                0\n",
       "lga                          0\n",
       "ward                         0\n",
       "population                   0\n",
       "public_meeting            3334\n",
       "recorded_by                  0\n",
       "scheme_management         3877\n",
       "scheme_name              28166\n",
       "permit                    3056\n",
       "construction_year            0\n",
       "extraction_type              0\n",
       "extraction_type_group        0\n",
       "extraction_type_class        0\n",
       "management                   0\n",
       "management_group             0\n",
       "payment                      0\n",
       "payment_type                 0\n",
       "water_quality                0\n",
       "quality_group                0\n",
       "quantity                     0\n",
       "quantity_group               0\n",
       "source                       0\n",
       "source_type                  0\n",
       "source_class                 0\n",
       "waterpoint_type              0\n",
       "waterpoint_type_group        0\n",
       "status_group                 0\n",
       "dtype: int64"
      ]
     },
     "execution_count": 6,
     "metadata": {},
     "output_type": "execute_result"
    }
   ],
   "source": [
    "# exploring nulls in each column\n",
    "data.isna().sum()"
   ]
  },
  {
   "cell_type": "code",
   "execution_count": 13,
   "metadata": {},
   "outputs": [
    {
     "name": "stdout",
     "output_type": "stream",
     "text": [
      "2047     1\n",
      "72310    1\n",
      "49805    1\n",
      "51852    1\n",
      "62091    1\n",
      "        ..\n",
      "46396    1\n",
      "36155    1\n",
      "34106    1\n",
      "38200    1\n",
      "0        1\n",
      "Name: id, Length: 59400, dtype: int64\n",
      "0.0         41639\n",
      "500.0        3102\n",
      "50.0         2472\n",
      "1000.0       1488\n",
      "20.0         1463\n",
      "            ...  \n",
      "8500.0          1\n",
      "6300.0          1\n",
      "220.0           1\n",
      "138000.0        1\n",
      "12.0            1\n",
      "Name: amount_tsh, Length: 98, dtype: int64\n",
      "2011-03-15    572\n",
      "2011-03-17    558\n",
      "2013-02-03    546\n",
      "2011-03-14    520\n",
      "2011-03-16    513\n",
      "             ... \n",
      "2011-09-01      1\n",
      "2004-01-07      1\n",
      "2011-09-06      1\n",
      "2011-09-23      1\n",
      "2011-09-14      1\n",
      "Name: date_recorded, Length: 356, dtype: int64\n",
      "Government Of Tanzania      9084\n",
      "Danida                      3114\n",
      "Hesawa                      2202\n",
      "Rwssp                       1374\n",
      "World Bank                  1349\n",
      "                            ... \n",
      "Eung-am Methodist Church       1\n",
      "Kidika                         1\n",
      "Halimashau                     1\n",
      "Rilayo Water Project           1\n",
      "Masese                         1\n",
      "Name: funder, Length: 1897, dtype: int64\n",
      " 0       20438\n",
      "-15         60\n",
      "-16         55\n",
      "-13         55\n",
      "-20         52\n",
      "         ...  \n",
      " 2285        1\n",
      " 2424        1\n",
      " 2552        1\n",
      " 2413        1\n",
      " 2385        1\n",
      "Name: gps_height, Length: 2428, dtype: int64\n",
      "DWE                     17402\n",
      "Government               1825\n",
      "RWE                      1206\n",
      "Commu                    1060\n",
      "DANIDA                   1050\n",
      "                        ...  \n",
      "TWESA/JAMII                 1\n",
      "RC CHURCH BROTHER           1\n",
      "Unknown Installer           1\n",
      "Makanya Sisal Estate        1\n",
      "Hemed Abdalkah              1\n",
      "Name: installer, Length: 2145, dtype: int64\n",
      "0.000000     1812\n",
      "37.540901       2\n",
      "33.010510       2\n",
      "39.093484       2\n",
      "32.972719       2\n",
      "             ... \n",
      "37.579803       1\n",
      "33.196490       1\n",
      "34.017119       1\n",
      "33.788326       1\n",
      "30.163579       1\n",
      "Name: longitude, Length: 57516, dtype: int64\n",
      "-2.000000e-08    1812\n",
      "-6.985842e+00       2\n",
      "-3.797579e+00       2\n",
      "-6.981884e+00       2\n",
      "-7.104625e+00       2\n",
      "                 ... \n",
      "-5.726001e+00       1\n",
      "-9.646831e+00       1\n",
      "-8.124530e+00       1\n",
      "-2.535985e+00       1\n",
      "-2.598965e+00       1\n",
      "Name: latitude, Length: 57517, dtype: int64\n",
      "none             3563\n",
      "Shuleni          1748\n",
      "Zahanati          830\n",
      "Msikitini         535\n",
      "Kanisani          323\n",
      "                 ... \n",
      "Sisikwasisi B       1\n",
      "Kabairu             1\n",
      "Edwini              1\n",
      "Kwa Saano           1\n",
      "Kwa Chimwaga        1\n",
      "Name: wpt_name, Length: 37400, dtype: int64\n",
      "0      58643\n",
      "6         81\n",
      "1         73\n",
      "5         46\n",
      "8         46\n",
      "       ...  \n",
      "180        1\n",
      "213        1\n",
      "23         1\n",
      "55         1\n",
      "94         1\n",
      "Name: num_private, Length: 65, dtype: int64\n",
      "Lake Victoria              10248\n",
      "Pangani                     8940\n",
      "Rufiji                      7976\n",
      "Internal                    7785\n",
      "Lake Tanganyika             6432\n",
      "Wami / Ruvu                 5987\n",
      "Lake Nyasa                  5085\n",
      "Ruvuma / Southern Coast     4493\n",
      "Lake Rukwa                  2454\n",
      "Name: basin, dtype: int64\n",
      "Madukani        508\n",
      "Shuleni         506\n",
      "Majengo         502\n",
      "Kati            373\n",
      "Mtakuja         262\n",
      "               ... \n",
      "Buchenze          1\n",
      "Bandagi           1\n",
      "Budalabujiga      1\n",
      "Igalula B         1\n",
      "Masulage          1\n",
      "Name: subvillage, Length: 19287, dtype: int64\n",
      "Iringa           5294\n",
      "Shinyanga        4982\n",
      "Mbeya            4639\n",
      "Kilimanjaro      4379\n",
      "Morogoro         4006\n",
      "Arusha           3350\n",
      "Kagera           3316\n",
      "Mwanza           3102\n",
      "Kigoma           2816\n",
      "Ruvuma           2640\n",
      "Pwani            2635\n",
      "Tanga            2547\n",
      "Dodoma           2201\n",
      "Singida          2093\n",
      "Mara             1969\n",
      "Tabora           1959\n",
      "Rukwa            1808\n",
      "Mtwara           1730\n",
      "Manyara          1583\n",
      "Lindi            1546\n",
      "Dar es Salaam     805\n",
      "Name: region, dtype: int64\n",
      "11    5300\n",
      "17    5011\n",
      "12    4639\n",
      "3     4379\n",
      "5     4040\n",
      "18    3324\n",
      "19    3047\n",
      "2     3024\n",
      "16    2816\n",
      "10    2640\n",
      "4     2513\n",
      "1     2201\n",
      "13    2093\n",
      "14    1979\n",
      "20    1969\n",
      "15    1808\n",
      "6     1609\n",
      "21    1583\n",
      "80    1238\n",
      "60    1025\n",
      "90     917\n",
      "7      805\n",
      "99     423\n",
      "9      390\n",
      "24     326\n",
      "8      300\n",
      "40       1\n",
      "Name: region_code, dtype: int64\n",
      "1     12203\n",
      "2     11173\n",
      "3      9998\n",
      "4      8999\n",
      "5      4356\n",
      "6      4074\n",
      "7      3343\n",
      "8      1043\n",
      "30      995\n",
      "33      874\n",
      "53      745\n",
      "43      505\n",
      "13      391\n",
      "23      293\n",
      "63      195\n",
      "62      109\n",
      "60       63\n",
      "0        23\n",
      "80       12\n",
      "67        6\n",
      "Name: district_code, dtype: int64\n",
      "Njombe          2503\n",
      "Arusha Rural    1252\n",
      "Moshi Rural     1251\n",
      "Bariadi         1177\n",
      "Rungwe          1106\n",
      "                ... \n",
      "Moshi Urban       79\n",
      "Kigoma Urban      71\n",
      "Arusha Urban      63\n",
      "Lindi Urban       21\n",
      "Nyamagana          1\n",
      "Name: lga, Length: 125, dtype: int64\n",
      "Igosi          307\n",
      "Imalinyi       252\n",
      "Siha Kati      232\n",
      "Mdandu         231\n",
      "Nduruma        217\n",
      "              ... \n",
      "Mawenzi          1\n",
      "Kapilula         1\n",
      "Korongoni        1\n",
      "Machinjioni      1\n",
      "Sungwisi         1\n",
      "Name: ward, Length: 2092, dtype: int64\n",
      "0       21381\n",
      "1        7025\n",
      "200      1940\n",
      "150      1892\n",
      "250      1681\n",
      "        ...  \n",
      "3241        1\n",
      "1960        1\n",
      "1685        1\n",
      "2248        1\n",
      "1439        1\n",
      "Name: population, Length: 1049, dtype: int64\n",
      "True     51011\n",
      "False     5055\n",
      "Name: public_meeting, dtype: int64\n",
      "GeoData Consultants Ltd    59400\n",
      "Name: recorded_by, dtype: int64\n",
      "VWC                 36793\n",
      "WUG                  5206\n",
      "Water authority      3153\n",
      "WUA                  2883\n",
      "Water Board          2748\n",
      "Parastatal           1680\n",
      "Private operator     1063\n",
      "Company              1061\n",
      "Other                 766\n",
      "SWC                    97\n",
      "Trust                  72\n",
      "None                    1\n",
      "Name: scheme_management, dtype: int64\n",
      "K                             682\n",
      "None                          644\n",
      "Borehole                      546\n",
      "Chalinze wate                 405\n",
      "M                             400\n",
      "                             ... \n",
      "Kalemela Mwaloni                1\n",
      "Mwasayi piped water Scheme      1\n",
      "NYEHUNGE WATER SUPPLY           1\n",
      "Mradi wa maji Vijini            1\n",
      "NYA /MAK /BUK piped scheme      1\n",
      "Name: scheme_name, Length: 2696, dtype: int64\n",
      "True     38852\n",
      "False    17492\n",
      "Name: permit, dtype: int64\n",
      "0       20709\n",
      "2010     2645\n",
      "2008     2613\n",
      "2009     2533\n",
      "2000     2091\n",
      "2007     1587\n",
      "2006     1471\n",
      "2003     1286\n",
      "2011     1256\n",
      "2004     1123\n",
      "2012     1084\n",
      "2002     1075\n",
      "1978     1037\n",
      "1995     1014\n",
      "2005     1011\n",
      "1999      979\n",
      "1998      966\n",
      "1990      954\n",
      "1985      945\n",
      "1980      811\n",
      "1996      811\n",
      "1984      779\n",
      "1982      744\n",
      "1994      738\n",
      "1972      708\n",
      "1974      676\n",
      "1997      644\n",
      "1992      640\n",
      "1993      608\n",
      "2001      540\n",
      "1988      521\n",
      "1983      488\n",
      "1975      437\n",
      "1986      434\n",
      "1976      414\n",
      "1970      411\n",
      "1991      324\n",
      "1989      316\n",
      "1987      302\n",
      "1981      238\n",
      "1977      202\n",
      "1979      192\n",
      "1973      184\n",
      "2013      176\n",
      "1971      145\n",
      "1960      102\n",
      "1967       88\n",
      "1963       85\n",
      "1968       77\n",
      "1969       59\n",
      "1964       40\n",
      "1962       30\n",
      "1961       21\n",
      "1965       19\n",
      "1966       17\n",
      "Name: construction_year, dtype: int64\n",
      "gravity                      26780\n",
      "nira/tanira                   8154\n",
      "other                         6430\n",
      "submersible                   4764\n",
      "swn 80                        3670\n",
      "mono                          2865\n",
      "india mark ii                 2400\n",
      "afridev                       1770\n",
      "ksb                           1415\n",
      "other - rope pump              451\n",
      "other - swn 81                 229\n",
      "windmill                       117\n",
      "india mark iii                  98\n",
      "cemo                            90\n",
      "other - play pump               85\n",
      "walimi                          48\n",
      "climax                          32\n",
      "other - mkulima/shinyanga        2\n",
      "Name: extraction_type, dtype: int64\n",
      "gravity            26780\n",
      "nira/tanira         8154\n",
      "other               6430\n",
      "submersible         6179\n",
      "swn 80              3670\n",
      "mono                2865\n",
      "india mark ii       2400\n",
      "afridev             1770\n",
      "rope pump            451\n",
      "other handpump       364\n",
      "other motorpump      122\n",
      "wind-powered         117\n",
      "india mark iii        98\n",
      "Name: extraction_type_group, dtype: int64\n",
      "gravity         26780\n",
      "handpump        16456\n",
      "other            6430\n",
      "submersible      6179\n",
      "motorpump        2987\n",
      "rope pump         451\n",
      "wind-powered      117\n",
      "Name: extraction_type_class, dtype: int64\n",
      "vwc                 40507\n",
      "wug                  6515\n",
      "water board          2933\n",
      "wua                  2535\n",
      "private operator     1971\n",
      "parastatal           1768\n",
      "water authority       904\n",
      "other                 844\n",
      "company               685\n",
      "unknown               561\n",
      "other - school         99\n",
      "trust                  78\n",
      "Name: management, dtype: int64\n",
      "user-group    52490\n",
      "commercial     3638\n",
      "parastatal     1768\n",
      "other           943\n",
      "unknown         561\n",
      "Name: management_group, dtype: int64\n",
      "never pay                25348\n",
      "pay per bucket            8985\n",
      "pay monthly               8300\n",
      "unknown                   8157\n",
      "pay when scheme fails     3914\n",
      "pay annually              3642\n",
      "other                     1054\n",
      "Name: payment, dtype: int64\n",
      "never pay     25348\n",
      "per bucket     8985\n",
      "monthly        8300\n",
      "unknown        8157\n",
      "on failure     3914\n",
      "annually       3642\n",
      "other          1054\n",
      "Name: payment_type, dtype: int64\n",
      "soft                  50818\n",
      "salty                  4856\n",
      "unknown                1876\n",
      "milky                   804\n",
      "coloured                490\n",
      "salty abandoned         339\n",
      "fluoride                200\n",
      "fluoride abandoned       17\n",
      "Name: water_quality, dtype: int64\n",
      "good        50818\n",
      "salty        5195\n",
      "unknown      1876\n",
      "milky         804\n",
      "colored       490\n",
      "fluoride      217\n",
      "Name: quality_group, dtype: int64\n",
      "enough          33186\n",
      "insufficient    15129\n",
      "dry              6246\n",
      "seasonal         4050\n",
      "unknown           789\n",
      "Name: quantity, dtype: int64\n",
      "enough          33186\n",
      "insufficient    15129\n",
      "dry              6246\n",
      "seasonal         4050\n",
      "unknown           789\n"
     ]
    },
    {
     "name": "stdout",
     "output_type": "stream",
     "text": [
      "Name: quantity_group, dtype: int64\n",
      "spring                  17021\n",
      "shallow well            16824\n",
      "machine dbh             11075\n",
      "river                    9612\n",
      "rainwater harvesting     2295\n",
      "hand dtw                  874\n",
      "lake                      765\n",
      "dam                       656\n",
      "other                     212\n",
      "unknown                    66\n",
      "Name: source, dtype: int64\n",
      "spring                  17021\n",
      "shallow well            16824\n",
      "borehole                11949\n",
      "river/lake              10377\n",
      "rainwater harvesting     2295\n",
      "dam                       656\n",
      "other                     278\n",
      "Name: source_type, dtype: int64\n",
      "groundwater    45794\n",
      "surface        13328\n",
      "unknown          278\n",
      "Name: source_class, dtype: int64\n",
      "communal standpipe             28522\n",
      "hand pump                      17488\n",
      "other                           6380\n",
      "communal standpipe multiple     6103\n",
      "improved spring                  784\n",
      "cattle trough                    116\n",
      "dam                                7\n",
      "Name: waterpoint_type, dtype: int64\n",
      "communal standpipe    34625\n",
      "hand pump             17488\n",
      "other                  6380\n",
      "improved spring         784\n",
      "cattle trough           116\n",
      "dam                       7\n",
      "Name: waterpoint_type_group, dtype: int64\n",
      "functional                 32259\n",
      "non functional             22824\n",
      "functional needs repair     4317\n",
      "Name: status_group, dtype: int64\n"
     ]
    }
   ],
   "source": [
    "# exploring unique values for each column\n",
    "for col in data.columns:\n",
    "    print(data[col].value_counts())"
   ]
  },
  {
   "cell_type": "code",
   "execution_count": 24,
   "metadata": {},
   "outputs": [
    {
     "data": {
      "text/html": [
       "<div>\n",
       "<style scoped>\n",
       "    .dataframe tbody tr th:only-of-type {\n",
       "        vertical-align: middle;\n",
       "    }\n",
       "\n",
       "    .dataframe tbody tr th {\n",
       "        vertical-align: top;\n",
       "    }\n",
       "\n",
       "    .dataframe thead th {\n",
       "        text-align: right;\n",
       "    }\n",
       "</style>\n",
       "<table border=\"1\" class=\"dataframe\">\n",
       "  <thead>\n",
       "    <tr style=\"text-align: right;\">\n",
       "      <th></th>\n",
       "      <th>amount_tsh</th>\n",
       "      <th>funder</th>\n",
       "      <th>gps_height</th>\n",
       "      <th>installer</th>\n",
       "      <th>basin</th>\n",
       "      <th>region</th>\n",
       "      <th>population</th>\n",
       "      <th>scheme_management</th>\n",
       "      <th>scheme_name</th>\n",
       "      <th>permit</th>\n",
       "      <th>construction_year</th>\n",
       "      <th>extraction_type_class</th>\n",
       "      <th>management</th>\n",
       "      <th>payment</th>\n",
       "      <th>quality_group</th>\n",
       "      <th>quantity</th>\n",
       "      <th>source</th>\n",
       "      <th>waterpoint_type_group</th>\n",
       "      <th>status_group</th>\n",
       "    </tr>\n",
       "  </thead>\n",
       "  <tbody>\n",
       "    <tr>\n",
       "      <th>0</th>\n",
       "      <td>6000.0</td>\n",
       "      <td>Roman</td>\n",
       "      <td>1390</td>\n",
       "      <td>Roman</td>\n",
       "      <td>Lake Nyasa</td>\n",
       "      <td>Iringa</td>\n",
       "      <td>109</td>\n",
       "      <td>VWC</td>\n",
       "      <td>Roman</td>\n",
       "      <td>False</td>\n",
       "      <td>1999</td>\n",
       "      <td>gravity</td>\n",
       "      <td>vwc</td>\n",
       "      <td>pay annually</td>\n",
       "      <td>good</td>\n",
       "      <td>enough</td>\n",
       "      <td>spring</td>\n",
       "      <td>communal standpipe</td>\n",
       "      <td>functional</td>\n",
       "    </tr>\n",
       "    <tr>\n",
       "      <th>1</th>\n",
       "      <td>0.0</td>\n",
       "      <td>Grumeti</td>\n",
       "      <td>1399</td>\n",
       "      <td>GRUMETI</td>\n",
       "      <td>Lake Victoria</td>\n",
       "      <td>Mara</td>\n",
       "      <td>280</td>\n",
       "      <td>Other</td>\n",
       "      <td>NaN</td>\n",
       "      <td>True</td>\n",
       "      <td>2010</td>\n",
       "      <td>gravity</td>\n",
       "      <td>wug</td>\n",
       "      <td>never pay</td>\n",
       "      <td>good</td>\n",
       "      <td>insufficient</td>\n",
       "      <td>rainwater harvesting</td>\n",
       "      <td>communal standpipe</td>\n",
       "      <td>functional</td>\n",
       "    </tr>\n",
       "    <tr>\n",
       "      <th>2</th>\n",
       "      <td>25.0</td>\n",
       "      <td>Lottery Club</td>\n",
       "      <td>686</td>\n",
       "      <td>World vision</td>\n",
       "      <td>Pangani</td>\n",
       "      <td>Manyara</td>\n",
       "      <td>250</td>\n",
       "      <td>VWC</td>\n",
       "      <td>Nyumba ya mungu pipe scheme</td>\n",
       "      <td>True</td>\n",
       "      <td>2009</td>\n",
       "      <td>gravity</td>\n",
       "      <td>vwc</td>\n",
       "      <td>pay per bucket</td>\n",
       "      <td>good</td>\n",
       "      <td>enough</td>\n",
       "      <td>dam</td>\n",
       "      <td>communal standpipe</td>\n",
       "      <td>functional</td>\n",
       "    </tr>\n",
       "    <tr>\n",
       "      <th>3</th>\n",
       "      <td>0.0</td>\n",
       "      <td>Unicef</td>\n",
       "      <td>263</td>\n",
       "      <td>UNICEF</td>\n",
       "      <td>Ruvuma / Southern Coast</td>\n",
       "      <td>Mtwara</td>\n",
       "      <td>58</td>\n",
       "      <td>VWC</td>\n",
       "      <td>NaN</td>\n",
       "      <td>True</td>\n",
       "      <td>1986</td>\n",
       "      <td>submersible</td>\n",
       "      <td>vwc</td>\n",
       "      <td>never pay</td>\n",
       "      <td>good</td>\n",
       "      <td>dry</td>\n",
       "      <td>machine dbh</td>\n",
       "      <td>communal standpipe</td>\n",
       "      <td>non functional</td>\n",
       "    </tr>\n",
       "    <tr>\n",
       "      <th>4</th>\n",
       "      <td>0.0</td>\n",
       "      <td>Action In A</td>\n",
       "      <td>0</td>\n",
       "      <td>Artisan</td>\n",
       "      <td>Lake Victoria</td>\n",
       "      <td>Kagera</td>\n",
       "      <td>0</td>\n",
       "      <td>NaN</td>\n",
       "      <td>NaN</td>\n",
       "      <td>True</td>\n",
       "      <td>0</td>\n",
       "      <td>gravity</td>\n",
       "      <td>other</td>\n",
       "      <td>never pay</td>\n",
       "      <td>good</td>\n",
       "      <td>seasonal</td>\n",
       "      <td>rainwater harvesting</td>\n",
       "      <td>communal standpipe</td>\n",
       "      <td>functional</td>\n",
       "    </tr>\n",
       "  </tbody>\n",
       "</table>\n",
       "</div>"
      ],
      "text/plain": [
       "   amount_tsh        funder  gps_height     installer  \\\n",
       "0      6000.0         Roman        1390         Roman   \n",
       "1         0.0       Grumeti        1399       GRUMETI   \n",
       "2        25.0  Lottery Club         686  World vision   \n",
       "3         0.0        Unicef         263        UNICEF   \n",
       "4         0.0   Action In A           0       Artisan   \n",
       "\n",
       "                     basin   region  population scheme_management  \\\n",
       "0               Lake Nyasa   Iringa         109               VWC   \n",
       "1            Lake Victoria     Mara         280             Other   \n",
       "2                  Pangani  Manyara         250               VWC   \n",
       "3  Ruvuma / Southern Coast   Mtwara          58               VWC   \n",
       "4            Lake Victoria   Kagera           0               NaN   \n",
       "\n",
       "                   scheme_name permit  construction_year  \\\n",
       "0                        Roman  False               1999   \n",
       "1                          NaN   True               2010   \n",
       "2  Nyumba ya mungu pipe scheme   True               2009   \n",
       "3                          NaN   True               1986   \n",
       "4                          NaN   True                  0   \n",
       "\n",
       "  extraction_type_class management         payment quality_group  \\\n",
       "0               gravity        vwc    pay annually          good   \n",
       "1               gravity        wug       never pay          good   \n",
       "2               gravity        vwc  pay per bucket          good   \n",
       "3           submersible        vwc       never pay          good   \n",
       "4               gravity      other       never pay          good   \n",
       "\n",
       "       quantity                source waterpoint_type_group    status_group  \n",
       "0        enough                spring    communal standpipe      functional  \n",
       "1  insufficient  rainwater harvesting    communal standpipe      functional  \n",
       "2        enough                   dam    communal standpipe      functional  \n",
       "3           dry           machine dbh    communal standpipe  non functional  \n",
       "4      seasonal  rainwater harvesting    communal standpipe      functional  "
      ]
     },
     "execution_count": 24,
     "metadata": {},
     "output_type": "execute_result"
    }
   ],
   "source": [
    "# making a list of all the columns that are redundant or not useful for our model\n",
    "drop_cols_list = ['id','date_recorded', 'latitude', 'longitude', 'wpt_name', 'num_private', 'region_code',\n",
    "                 'district_code', 'lga', 'ward', 'subvillage', 'public_meeting', 'recorded_by', 'extraction_type',\n",
    "                  'extraction_type_group', 'management_group', 'payment_type', 'water_quality', 'quantity_group',\n",
    "                  'source_type', 'source_class', 'waterpoint_type']\n",
    "\n",
    "# creating dataframe without columns mentioned above\n",
    "df = data.drop(drop_cols_list, axis=1)\n",
    "\n",
    "# checking new dataframe\n",
    "df.head()"
   ]
  },
  {
   "cell_type": "code",
   "execution_count": 25,
   "metadata": {},
   "outputs": [
    {
     "data": {
      "text/plain": [
       "(59400, 19)"
      ]
     },
     "execution_count": 25,
     "metadata": {},
     "output_type": "execute_result"
    }
   ],
   "source": [
    "# checking shape of new dataframe\n",
    "df.shape"
   ]
  },
  {
   "cell_type": "code",
   "execution_count": 26,
   "metadata": {},
   "outputs": [
    {
     "data": {
      "text/plain": [
       "(28986, 19)"
      ]
     },
     "execution_count": 26,
     "metadata": {},
     "output_type": "execute_result"
    }
   ],
   "source": [
    "# dropping nulls\n",
    "df = df.dropna()\n",
    "\n",
    "# checking shape of dataframe\n",
    "df.shape"
   ]
  },
  {
   "cell_type": "code",
   "execution_count": 28,
   "metadata": {},
   "outputs": [
    {
     "data": {
      "text/plain": [
       "(22710, 19)"
      ]
     },
     "execution_count": 28,
     "metadata": {},
     "output_type": "execute_result"
    }
   ],
   "source": [
    "# removing all rows with '0' in 'construction_year' column\n",
    "df = df.drop(df.loc[df['construction_year']==0].index)\n",
    "\n",
    "# checking shape of dataframe\n",
    "df.shape"
   ]
  },
  {
   "cell_type": "code",
   "execution_count": 29,
   "metadata": {},
   "outputs": [
    {
     "data": {
      "text/plain": [
       "functional                 13737\n",
       "non functional              7295\n",
       "functional needs repair     1678\n",
       "Name: status_group, dtype: int64"
      ]
     },
     "execution_count": 29,
     "metadata": {},
     "output_type": "execute_result"
    }
   ],
   "source": [
    "# checking class imbalance of the target\n",
    "df['status_group'].value_counts()"
   ]
  },
  {
   "cell_type": "markdown",
   "metadata": {},
   "source": [
    "## Model Selection"
   ]
  },
  {
   "cell_type": "markdown",
   "metadata": {},
   "source": [
    "### Train Test Split\n",
    "\n",
    "We split our data in training and test sets"
   ]
  },
  {
   "cell_type": "code",
   "execution_count": 31,
   "metadata": {},
   "outputs": [],
   "source": [
    "X = df.drop('status_group', axis=1)\n",
    "y = df['status_group']\n",
    "\n",
    "X_train, X_test, y_train, y_test = train_test_split(X, y)"
   ]
  },
  {
   "cell_type": "markdown",
   "metadata": {},
   "source": [
    "### Creating Column Transformer for Numerical and Categorical Data"
   ]
  },
  {
   "cell_type": "code",
   "execution_count": 35,
   "metadata": {},
   "outputs": [],
   "source": [
    "# creating function to grab numerical and categorical columns\n",
    "def grab_numeric(df):\n",
    "    df = pd.DataFrame(df)\n",
    "    return df.select_dtypes(include=['float', 'int'])\n",
    "\n",
    "def grab_categorical(df):\n",
    "    df = pd.DataFrame(df)\n",
    "    return df.select_dtypes(include=['object'])"
   ]
  },
  {
   "cell_type": "code",
   "execution_count": 36,
   "metadata": {},
   "outputs": [],
   "source": [
    "# creating function transformers\n",
    "GrabNum = FunctionTransformer(grab_numeric)\n",
    "GrabCat = FunctionTransformer(grab_categorical)"
   ]
  },
  {
   "cell_type": "code",
   "execution_count": 37,
   "metadata": {},
   "outputs": [],
   "source": [
    "# creating subpipelines, including scaling for numerical data and one hot encoding for categorical data\n",
    "subpipe_num = Pipeline(steps=[('grab_num', GrabNum), ('scaler', StandardScaler())])\n",
    "subpipe_cat = Pipeline(steps=[('grab_cat', GrabCat), ('ohe', OneHotEncoder(sparse=False, handle_unknown='ignore'))])"
   ]
  },
  {
   "cell_type": "code",
   "execution_count": 38,
   "metadata": {},
   "outputs": [],
   "source": [
    "# creating column transformer\n",
    "col_trans = ColumnTransformer(transformers=[('subpipe_num', subpipe_num, X.columns),\n",
    "                                            ('subpipe_cat', subpipe_cat, X.columns)])"
   ]
  },
  {
   "cell_type": "markdown",
   "metadata": {},
   "source": [
    "### Synthesizing Data for Oversampling Imbalanced Target Class"
   ]
  },
  {
   "cell_type": "code",
   "execution_count": 39,
   "metadata": {},
   "outputs": [
    {
     "data": {
      "text/plain": [
       "['funder',\n",
       " 'installer',\n",
       " 'basin',\n",
       " 'region',\n",
       " 'scheme_management',\n",
       " 'scheme_name',\n",
       " 'permit',\n",
       " 'extraction_type_class',\n",
       " 'management',\n",
       " 'payment',\n",
       " 'quality_group',\n",
       " 'quantity',\n",
       " 'source',\n",
       " 'waterpoint_type_group']"
      ]
     },
     "execution_count": 39,
     "metadata": {},
     "output_type": "execute_result"
    }
   ],
   "source": [
    "# making list of categorical variables\n",
    "smote_cat_cols = list(grab_categorical(X_train).columns)\n",
    "\n",
    "# checking categorical columns\n",
    "smote_cat_cols"
   ]
  },
  {
   "cell_type": "code",
   "execution_count": 41,
   "metadata": {},
   "outputs": [
    {
     "data": {
      "text/plain": [
       "[1, 3, 4, 5, 7, 8, 9, 11, 12, 13, 14, 15, 16, 17]"
      ]
     },
     "execution_count": 41,
     "metadata": {},
     "output_type": "execute_result"
    }
   ],
   "source": [
    "# gets index nuber for columns to use to instantiatin SMOTENC\n",
    "smote_cat_index = [X_train.columns.get_loc(c) for c in smote_cat_cols]\n",
    "\n",
    "# checking index of categorical columns\n",
    "smote_cat_index"
   ]
  },
  {
   "cell_type": "code",
   "execution_count": 42,
   "metadata": {},
   "outputs": [],
   "source": [
    "# instantiating SMOTENC\n",
    "smtnc = SMOTENC(smote_cat_index, sampling_strategy='auto')"
   ]
  },
  {
   "cell_type": "code",
   "execution_count": 44,
   "metadata": {},
   "outputs": [
    {
     "data": {
      "text/plain": [
       "functional needs repair    10291\n",
       "non functional             10291\n",
       "functional                 10291\n",
       "Name: status_group, dtype: int64"
      ]
     },
     "execution_count": 44,
     "metadata": {},
     "output_type": "execute_result"
    }
   ],
   "source": [
    "# creating synthetic data\n",
    "X_train_smote_rs, y_train_smote_rs = smtnc.fit_resample(X_train, y_train)\n",
    "\n",
    "# checking target value counts\n",
    "y_train_smote_rs.value_counts()"
   ]
  },
  {
   "cell_type": "markdown",
   "metadata": {},
   "source": [
    "### Creating Baseline Model"
   ]
  },
  {
   "cell_type": "code",
   "execution_count": 46,
   "metadata": {},
   "outputs": [
    {
     "data": {
      "text/plain": [
       "0.07374354156881165"
      ]
     },
     "execution_count": 46,
     "metadata": {},
     "output_type": "execute_result"
    }
   ],
   "source": [
    "# instantiating dummy classifier and fitting to training data\n",
    "dummy_clf = DummyClassifier(strategy='constant', constant='functional needs repair')\n",
    "dummy_clf.fit(X_train, y_train)\n",
    "\n",
    "# getting accuracy score\n",
    "dummy_clf.score(X_train, y_train)"
   ]
  },
  {
   "cell_type": "code",
   "execution_count": 47,
   "metadata": {},
   "outputs": [
    {
     "data": {
      "text/plain": [
       "0.07374354156881165"
      ]
     },
     "execution_count": 47,
     "metadata": {},
     "output_type": "execute_result"
    }
   ],
   "source": [
    "# gettting recall_score\n",
    "y_pred_baseline = dummy_clf.predict(X_train)\n",
    "recall = recall_score(y_train, y_pred_baseline, average='weighted')\n",
    "recall"
   ]
  },
  {
   "cell_type": "code",
   "execution_count": 52,
   "metadata": {},
   "outputs": [
    {
     "data": {
      "image/png": "[encoded data removed]",
      "text/plain": [
       "<Figure size 432x288 with 2 Axes>"
      ]
     },
     "metadata": {
      "needs_background": "light"
     },
     "output_type": "display_data"
    }
   ],
   "source": [
    "# creating confusion matrix for baseline model\n",
    "conf_matrix = plot_confusion_matrix(dummy_clf, X_train, y_train)\n",
    "plt.xticks(rotation=30);"
   ]
  },
  {
   "cell_type": "markdown",
   "metadata": {},
   "source": [
    "### Grid Searching Different Model Types for Hyperparameter Tuning"
   ]
  },
  {
   "cell_type": "markdown",
   "metadata": {},
   "source": [
    "#### K-Nearest Neighbors"
   ]
  },
  {
   "cell_type": "code",
   "execution_count": 53,
   "metadata": {
    "scrolled": true
   },
   "outputs": [
    {
     "data": {
      "text/plain": [
       "Pipeline(steps=[('col_trans',\n",
       "                 ColumnTransformer(transformers=[('subpipe_num',\n",
       "                                                  Pipeline(steps=[('grab_num',\n",
       "                                                                   FunctionTransformer(func=<function grab_numeric at 0x7f8a46742dc0>)),\n",
       "                                                                  ('scaler',\n",
       "                                                                   StandardScaler())]),\n",
       "                                                  Index(['amount_tsh', 'funder', 'gps_height', 'installer', 'basin', 'region',\n",
       "       'population', 'scheme_management', 'scheme_name', 'permit',\n",
       "       'construction_year', 'ex...\n",
       "                                                                   OneHotEncoder(handle_unknown='ignore',\n",
       "                                                                                 sparse=False))]),\n",
       "                                                  Index(['amount_tsh', 'funder', 'gps_height', 'installer', 'basin', 'region',\n",
       "       'population', 'scheme_management', 'scheme_name', 'permit',\n",
       "       'construction_year', 'extraction_type_class', 'management', 'payment',\n",
       "       'quality_group', 'quantity', 'source', 'waterpoint_type_group'],\n",
       "      dtype='object'))])),\n",
       "                ('knn', KNeighborsClassifier())])"
      ]
     },
     "execution_count": 53,
     "metadata": {},
     "output_type": "execute_result"
    }
   ],
   "source": [
    "# creating pipeline for k-nearest neighbors\n",
    "knn_pipe = Pipeline(steps=[('col_trans', col_trans), ('knn', KNeighborsClassifier())])\n",
    "\n",
    "# fitting pipeline to training data\n",
    "knn_pipe.fit(X_train, y_train)"
   ]
  },
  {
   "cell_type": "code",
   "execution_count": null,
   "metadata": {},
   "outputs": [],
   "source": [
    "# first grid search\n",
    "knn_params1 = {}\n",
    "knn_params1['knn__n_neighbors'] = [3, 5, 7, 11]\n",
    "knn_params1['knn__weights'] = ['uniform', 'distance']\n",
    "knn_params1['knn__p'] = [1, 2]\n",
    "\n",
    "knn_grid1 = GridSearchCV(knn_pipe, param_grid=knn_params1, scoring='recall_weighted', cv=3, n_jobs=-3, verbose=3)\n",
    "\n",
    "knn_grid1.fit(X_train, y_train)"
   ]
  },
  {
   "cell_type": "code",
   "execution_count": null,
   "metadata": {},
   "outputs": [],
   "source": [
    "# best parameters from search\n",
    "knn_grid1.best_params_"
   ]
  },
  {
   "cell_type": "code",
   "execution_count": null,
   "metadata": {},
   "outputs": [],
   "source": [
    "# best recall score from search\n",
    "knn_grid1.best_score_"
   ]
  },
  {
   "cell_type": "code",
   "execution_count": null,
   "metadata": {},
   "outputs": [],
   "source": [
    "classification_report(y_test, knn_grid1.best_estimator_.predict(X_test), output_dict=True)"
   ]
  },
  {
   "cell_type": "markdown",
   "metadata": {},
   "source": [
    "Best parameters for first grid search:\\\n",
    "{'knn__n_neighbors': 11, 'knn__p': 1, 'knn__weights': 'distance'}\n",
    "\n",
    "Best score for first grid search:\\\n",
    "0.7852865180124783\n",
    "\n",
    "Classification report for first grid search:\\\n",
    "{'functional': {'precision': 0.8244505494505494,\\\n",
    "  'recall': 0.8739079790331974,\\\n",
    "  'f1-score': 0.8484591461690698,\\\n",
    "  'support': 3434},\\\n",
    " 'functional needs repair': {'precision': 0.41114982578397213,\\\n",
    "  'recall': 0.28433734939759037,\\\n",
    "  'f1-score': 0.33618233618233617,\\\n",
    "  'support': 415},\\\n",
    " 'non functional': {'precision': 0.7824100513992005,\\\n",
    "  'recall': 0.7490431930016402,\\\n",
    "  'f1-score': 0.76536312849162,\\\n",
    "  'support': 1829},\\\n",
    " 'accuracy': 0.7905952800281789,\\\n",
    " 'macro avg': {'precision': 0.6726701422112407,\\\n",
    "  'recall': 0.6357628404774761,\\\n",
    "  'f1-score': 0.6500015369476754,\\\n",
    "  'support': 5678},\\\n",
    " 'weighted avg': {'precision': 0.7807006601836338,\\\n",
    "  'recall': 0.7905952800281789,\\\n",
    "  'f1-score': 0.7842503591883458,\\\n",
    "  'support': 5678}}"
   ]
  },
  {
   "cell_type": "code",
   "execution_count": null,
   "metadata": {},
   "outputs": [],
   "source": [
    "# second grid search\n",
    "knn_params2 = {}\n",
    "knn_params2['knn__n_neighbors'] = [11, 15, 20]\n",
    "knn_params2['knn__weights'] = ['uniform', 'distance']\n",
    "knn_params2['knn__p'] = [1, 2]\n",
    "\n",
    "knn_grid2 = GridSearchCV(knn_pipe, param_grid=knn_params2, scoring='recall_weighted', cv=3, n_jobs=-3, verbose=3)\n",
    "\n",
    "knn_grid2.fit(X_train, y_train)"
   ]
  },
  {
   "cell_type": "code",
   "execution_count": null,
   "metadata": {},
   "outputs": [],
   "source": [
    "# best parameters from search\n",
    "knn_grid2.best_params_"
   ]
  },
  {
   "cell_type": "code",
   "execution_count": null,
   "metadata": {},
   "outputs": [],
   "source": [
    "# best recall score from search\n",
    "knn_grid2.best_score_"
   ]
  },
  {
   "cell_type": "code",
   "execution_count": null,
   "metadata": {},
   "outputs": [],
   "source": [
    "classification_report(y_test, knn_grid2.best_estimator_.predict(X_test), output_dict=True)"
   ]
  },
  {
   "cell_type": "markdown",
   "metadata": {},
   "source": [
    "Best parameters for second grid search:\\\n",
    "{'knn__n_neighbors': 20, 'knn__p': 1, 'knn__weights': 'distance'}\n",
    "\n",
    "Best score for second grid search:\\\n",
    "0.7856975849252702\n",
    "\n",
    "Classification report for second grid search:\\\n",
    "{'functional': {'precision': 0.8203592814371258,\\\n",
    "  'recall': 0.877693651718113,\\\n",
    "  'f1-score': 0.8480585256049521,\\\n",
    "  'support': 3434},\\\n",
    " 'functional needs repair': {'precision': 0.4122137404580153,\\\n",
    "  'recall': 0.26024096385542167,\\\n",
    "  'f1-score': 0.31905465288035445,\\\n",
    "  'support': 415},\\\n",
    " 'non functional': {'precision': 0.7807118254879449,\\\n",
    "  'recall': 0.7435757244395844,\\\n",
    "  'f1-score': 0.7616914029683561,\\\n",
    "  'support': 1829},\\\n",
    " 'accuracy': 0.7893624515674533,\\\n",
    " 'macro avg': {'precision': 0.6710949491276953,\\\n",
    "  'recall': 0.6271701133377063,\\\n",
    "  'f1-score': 0.6429348604845543,\\\n",
    "  'support': 5678},\\\n",
    " 'weighted avg': {'precision': 0.7777570277496686,\\\n",
    "  'recall': 0.7893624515674533,\\\n",
    "  'f1-score': 0.7815734825470018,\\\n",
    "  'support': 5678}}"
   ]
  },
  {
   "cell_type": "code",
   "execution_count": null,
   "metadata": {},
   "outputs": [],
   "source": [
    "# Third grid search\n",
    "knn_params3 = {}\n",
    "knn_params3['knn__n_neighbors'] = [20, 25, 30]\n",
    "knn_params3['knn__weights'] = ['uniform', 'distance']\n",
    "knn_params3['knn__p'] = [1, 2]\n",
    "\n",
    "knn_grid3 = GridSearchCV(knn_pipe, param_grid=knn_params3, scoring='recall_weighted', cv=3, n_jobs=-3, verbose=3)\n",
    "\n",
    "knn_grid3.fit(X_train, y_train)"
   ]
  },
  {
   "cell_type": "code",
   "execution_count": null,
   "metadata": {},
   "outputs": [],
   "source": [
    "# best parameters from search\n",
    "knn_grid3.best_params_"
   ]
  },
  {
   "cell_type": "code",
   "execution_count": null,
   "metadata": {},
   "outputs": [],
   "source": [
    "# best recall score from search\n",
    "knn_grid3.best_score_"
   ]
  },
  {
   "cell_type": "code",
   "execution_count": null,
   "metadata": {},
   "outputs": [],
   "source": [
    "classification_report(y_test, knn_grid3.best_estimator_.predict(X_test), output_dict=True)"
   ]
  },
  {
   "cell_type": "markdown",
   "metadata": {},
   "source": [
    "Best parameters for third grid search:\\\n",
    "{'knn__n_neighbors': 20, 'knn__p': 1, 'knn__weights': 'distance'}\n",
    "\n",
    "Best score for third grid search:\\\n",
    "0.7856975849252702\n",
    "\n",
    "Classification report for third grid search:\\\n",
    "{'functional': {'precision': 0.8203592814371258,\\\n",
    "  'recall': 0.877693651718113,\\\n",
    "  'f1-score': 0.8480585256049521,\\\n",
    "  'support': 3434},\\\n",
    " 'functional needs repair': {'precision': 0.4122137404580153,\\\n",
    "  'recall': 0.26024096385542167,\\\n",
    "  'f1-score': 0.31905465288035445,\\\n",
    "  'support': 415},\\\n",
    " 'non functional': {'precision': 0.7807118254879449,\\\n",
    "  'recall': 0.7435757244395844,\\\n",
    "  'f1-score': 0.7616914029683561,\\\n",
    "  'support': 1829},\\\n",
    " 'accuracy': 0.7893624515674533,\\\n",
    " 'macro avg': {'precision': 0.6710949491276953,\\\n",
    "  'recall': 0.6271701133377063,\\\n",
    "  'f1-score': 0.6429348604845543,\\\n",
    "  'support': 5678},\\\n",
    " 'weighted avg': {'precision': 0.7777570277496686,\\\n",
    "  'recall': 0.7893624515674533,\\\n",
    "  'f1-score': 0.7815734825470018,\\\n",
    "  'support': 5678}}"
   ]
  },
  {
   "cell_type": "code",
   "execution_count": null,
   "metadata": {},
   "outputs": [],
   "source": [
    "# fourth grid search now with SMOTE data\n",
    "knn_params4 = {}\n",
    "knn_params4['knn__n_neighbors'] = [3, 5, 7, 11]\n",
    "knn_params4['knn__weights'] = ['uniform', 'distance']\n",
    "knn_params4['knn__p'] = [1, 2]\n",
    "\n",
    "knn_grid4 = GridSearchCV(knn_pipe, param_grid=knn_params4, scoring='recall_weighted', cv=3, n_jobs=-3, verbose=3)\n",
    "\n",
    "knn_grid4.fit(X_train_smote_rs, y_train_smote_rs)"
   ]
  },
  {
   "cell_type": "code",
   "execution_count": null,
   "metadata": {},
   "outputs": [],
   "source": [
    "# best parameters from search\n",
    "knn_grid4.best_params_"
   ]
  },
  {
   "cell_type": "code",
   "execution_count": null,
   "metadata": {},
   "outputs": [],
   "source": [
    "# best recall score from search\n",
    "knn_grid4.best_score_"
   ]
  },
  {
   "cell_type": "code",
   "execution_count": null,
   "metadata": {},
   "outputs": [],
   "source": [
    "classification_report(y_test, knn_grid4.best_estimator_.predict(X_test), output_dict=True)"
   ]
  },
  {
   "cell_type": "markdown",
   "metadata": {},
   "source": [
    "Best parameters for fourth grid search:\\\n",
    "{'knn__n_neighbors': 5, 'knn__p': 1, 'knn__weights': 'distance'}\n",
    "\n",
    "Best score for fourth grid search:\\\n",
    "0.8403701187356433\n",
    "\n",
    "Classification report for fourth grid search:\\\n",
    "{'functional': {'precision': 0.8461061123177164,\\\n",
    "  'recall': 0.7941176470588235,\\\n",
    "  'f1-score': 0.8192879675529517,\\\n",
    "  'support': 3434},\\\n",
    " 'functional needs repair': {'precision': 0.3139717425431711,\\\n",
    "  'recall': 0.4819277108433735,\\\n",
    "  'f1-score': 0.38022813688212925,\\\n",
    "  'support': 415},\\\n",
    " 'non functional': {'precision': 0.759075907590759,\\\n",
    "  'recall': 0.7545106615636961,\\\n",
    "  'f1-score': 0.7567863997806415,\\\n",
    "  'support': 1829},\\\n",
    " 'accuracy': 0.7585417400493132,\\\n",
    " 'macro avg': {'precision': 0.6397179208172155,\\\n",
    "  'recall': 0.6768520064886311,\\\n",
    "  'f1-score': 0.6521008347385742,\\\n",
    "  'support': 5678},\\\n",
    " 'weighted avg': {'precision': 0.7791786716868532,\\\n",
    "  'recall': 0.7585417400493132,\\\n",
    "  'f1-score': 0.7670644386371458,\\\n",
    "  'support': 5678}}\n"
   ]
  },
  {
   "cell_type": "markdown",
   "metadata": {},
   "source": [
    "#### Random Forest Classifier"
   ]
  },
  {
   "cell_type": "code",
   "execution_count": 54,
   "metadata": {},
   "outputs": [
    {
     "data": {
      "text/plain": [
       "Pipeline(steps=[('col_trans',\n",
       "                 ColumnTransformer(transformers=[('subpipe_num',\n",
       "                                                  Pipeline(steps=[('grab_num',\n",
       "                                                                   FunctionTransformer(func=<function grab_numeric at 0x7f8a46742dc0>)),\n",
       "                                                                  ('scaler',\n",
       "                                                                   StandardScaler())]),\n",
       "                                                  Index(['amount_tsh', 'funder', 'gps_height', 'installer', 'basin', 'region',\n",
       "       'population', 'scheme_management', 'scheme_name', 'permit',\n",
       "       'construction_year', 'ex...\n",
       "                                                                   OneHotEncoder(handle_unknown='ignore',\n",
       "                                                                                 sparse=False))]),\n",
       "                                                  Index(['amount_tsh', 'funder', 'gps_height', 'installer', 'basin', 'region',\n",
       "       'population', 'scheme_management', 'scheme_name', 'permit',\n",
       "       'construction_year', 'extraction_type_class', 'management', 'payment',\n",
       "       'quality_group', 'quantity', 'source', 'waterpoint_type_group'],\n",
       "      dtype='object'))])),\n",
       "                ('forest', RandomForestClassifier())])"
      ]
     },
     "execution_count": 54,
     "metadata": {},
     "output_type": "execute_result"
    }
   ],
   "source": [
    "# creating pipeline for random forest\n",
    "forest_pipe = Pipeline(steps=[('col_trans', col_trans), ('forest', RandomForestClassifier())])\n",
    "\n",
    "# fitting pipeline for random forest classifier\n",
    "forest_pipe.fit(X_train, y_train)"
   ]
  },
  {
   "cell_type": "code",
   "execution_count": null,
   "metadata": {},
   "outputs": [],
   "source": [
    "# first grid search\n",
    "rfc_params1 = {}\n",
    "rfc_params1['forest__n_estimators'] = [1000, 2000]\n",
    "rfc_params1['forest__max_depth'] = [10, 50, 100]\n",
    "rfc_params1['forest__min_samples_split'] = [200, 20, 2]\n",
    "rfc_params1['forest__max_features'] = ['sqrt', 'log2']\n",
    "rfc_params1['forest__class_weight'] = ['balanced']\n",
    "\n",
    "rfc_grid1 = GridSearchCV(forest_pipe, param_grid=rfc_params1, scoring='recall_weighted', cv=3, n_jobs=-3, verbose=3)\n",
    "\n",
    "rfc_grid1.fit(X_train, y_train)"
   ]
  },
  {
   "cell_type": "code",
   "execution_count": null,
   "metadata": {},
   "outputs": [],
   "source": [
    "# best parameters from search\n",
    "rfc_grid1.best_params_"
   ]
  },
  {
   "cell_type": "code",
   "execution_count": null,
   "metadata": {},
   "outputs": [],
   "source": [
    "# best recall score from search\n",
    "rfc_grid1.best_score_"
   ]
  },
  {
   "cell_type": "code",
   "execution_count": null,
   "metadata": {},
   "outputs": [],
   "source": [
    "classification_report(y_test, rfc_grid1.best_estimator_.predict(X_test), output_dict=True)"
   ]
  },
  {
   "cell_type": "markdown",
   "metadata": {},
   "source": [
    "Best parameters for first grid search:\\\n",
    "{'forest__class_weight': 'balanced',\\\n",
    " 'forest__max_depth': 50,\\\n",
    " 'forest__max_features': 'sqrt',\\\n",
    " 'forest__min_samples_split': 2,\\\n",
    " 'forest__n_estimators': 1000}\n",
    "\n",
    "Best score for first grid search:\\\n",
    "0.795796350392605\n",
    "\n",
    "Classification report for first grid search:\\\n",
    "{'functional': {'precision': 0.8391158365976497,\\\n",
    "  'recall': 0.865262550490479,\\\n",
    "  'f1-score': 0.8519886363636364,\\\n",
    "  'support': 3466},\\\n",
    " 'functional needs repair': {'precision': 0.39325842696629215,\\\n",
    "  'recall': 0.3211009174311927,\\\n",
    "  'f1-score': 0.3535353535353536,\\\n",
    "  'support': 436},\\\n",
    " 'non functional': {'precision': 0.7831807780320366,\\\n",
    "  'recall': 0.7708333333333334,\\\n",
    "  'f1-score': 0.7769580022701476,\\\n",
    "  'support': 1776},\\\n",
    " 'accuracy': 0.7939415287072913,\\\n",
    " 'macro avg': {'precision': 0.6718516805319927,\\\n",
    "  'recall': 0.6523989337516684,\\\n",
    "  'f1-score': 0.6608273307230458,\\\n",
    "  'support': 5678},\\\n",
    " 'weighted avg': {'precision': 0.7873838016184667,\\\n",
    "  'recall': 0.7939415287072913,\\\n",
    "  'f1-score': 0.790245058085516,\\\n",
    "  'support': 5678}}"
   ]
  },
  {
   "cell_type": "code",
   "execution_count": null,
   "metadata": {},
   "outputs": [],
   "source": [
    "# second grid search\n",
    "rfc_params2 = {}\n",
    "rfc_params2['forest__n_estimators'] = [100, 500, 1000]\n",
    "rfc_params2['forest__max_depth'] = [10, 25, 50]\n",
    "rfc_params2['forest__min_samples_split'] = [2, 10, 20]\n",
    "rfc_params2['forest__max_features'] = ['sqrt', 'log2']\n",
    "rfc_params2['forest__class_weight'] = ['balanced']\n",
    "\n",
    "rfc_grid2 = GridSearchCV(forest_pipe, param_grid=rfc_params2, scoring='recall_weighted', cv=3, n_jobs=-3, verbose=3)\n",
    "\n",
    "rfc_grid2.fit(X_train, y_train)"
   ]
  },
  {
   "cell_type": "code",
   "execution_count": null,
   "metadata": {},
   "outputs": [],
   "source": [
    "# best parameters from search\n",
    "rfc_grid2.best_params_"
   ]
  },
  {
   "cell_type": "code",
   "execution_count": null,
   "metadata": {},
   "outputs": [],
   "source": [
    "# best recall score from search\n",
    "rfc_grid2.best_score_"
   ]
  },
  {
   "cell_type": "code",
   "execution_count": null,
   "metadata": {},
   "outputs": [],
   "source": [
    "classification_report(y_test, rfc_grid2.best_estimator_.predict(X_test), output_dict=True)"
   ]
  },
  {
   "cell_type": "markdown",
   "metadata": {},
   "source": [
    "Best parameters for second grid search:\\\n",
    "{'forest__class_weight': 'balanced',\n",
    " 'forest__max_depth': 50,\n",
    " 'forest__max_features': 'sqrt',\n",
    " 'forest__min_samples_split': 2,\n",
    " 'forest__n_estimators': 500}\n",
    "\n",
    "Best score for second grid search:\\\n",
    "0.7969707105802074 \n",
    "\n",
    "Classification report for second grid search:\\\n",
    "{'functional': {'precision': 0.8364603752450294,\\\n",
    "  'recall': 0.861800346220427,\\\n",
    "  'f1-score': 0.8489413102174221,\\\n",
    "  'support': 3466},\\\n",
    " 'functional needs repair': {'precision': 0.38268156424581007,\\\n",
    "  'recall': 0.31422018348623854,\\\n",
    "  'f1-score': 0.34508816120906805,\\\n",
    "  'support': 436},\\\n",
    " 'non functional': {'precision': 0.7821612349914236,\\\n",
    "  'recall': 0.7702702702702703,\\\n",
    "  'f1-score': 0.7761702127659575,\\\n",
    "  'support': 1776},\\\n",
    " 'accuracy': 0.7911236350827756,\\\n",
    " 'macro avg': {'precision': 0.6671010581607543,\\\n",
    "  'recall': 0.6487635999923119,\\\n",
    "  'f1-score': 0.6567332280641492,\\\n",
    "  'support': 5678},\\\n",
    " 'weighted avg': {'precision': 0.7846317675158883,\\\n",
    "  'recall': 0.7911236350827756,\\\n",
    "  'f1-score': 0.7874898410308347,\\\n",
    "  'support': 5678}}"
   ]
  },
  {
   "cell_type": "code",
   "execution_count": null,
   "metadata": {},
   "outputs": [],
   "source": [
    "# third grid search with SMOTE data\n",
    "rfc_params3 = {}\n",
    "rfc_params3['forest__n_estimators'] = [10, 100, 500]\n",
    "rfc_params3['forest__max_depth'] = [10, 50, 100]\n",
    "rfc_params3['forest__min_samples_split'] = [2, 50, 100]\n",
    "rfc_params3['forest__max_features'] = ['sqrt', 'log2']\n",
    "\n",
    "rfc_grid3 = GridSearchCV(forest_pipe, param_grid=rfc_params3, scoring='recall_weighted', cv=3, n_jobs=-3, verbose=3)\n",
    "\n",
    "rfc_grid3.fit(X_train_smote_rs, y_train_smote_rs)"
   ]
  },
  {
   "cell_type": "code",
   "execution_count": null,
   "metadata": {},
   "outputs": [],
   "source": [
    "# best parameters from search\n",
    "rfc_grid3.best_params_"
   ]
  },
  {
   "cell_type": "code",
   "execution_count": null,
   "metadata": {},
   "outputs": [],
   "source": [
    "# best recall score from search\n",
    "rfc_grid3.best_score_"
   ]
  },
  {
   "cell_type": "code",
   "execution_count": null,
   "metadata": {},
   "outputs": [],
   "source": [
    "classification_report(y_test, rfc_grid3.best_estimator_.predict(X_test), output_dict=True)"
   ]
  },
  {
   "cell_type": "markdown",
   "metadata": {},
   "source": [
    "Best parameters for third grid search:\\\n",
    "{'forest__max_depth': 50,\\\n",
    " 'forest__max_features': 'log2',\\\n",
    " 'forest__min_samples_split': 2,\\\n",
    " 'forest__n_estimators': 500}\n",
    "\n",
    "Best score for third grid search:\\\n",
    "0.855557712215321\n",
    "\n",
    "Classification report for third grid search:\\\n",
    "{'functional': {'precision': 0.8484662576687116,\\\n",
    "  'recall': 0.8057092921642878,\\\n",
    "  'f1-score': 0.8265351860152397,\\\n",
    "  'support': 3433},\\\n",
    " 'functional needs repair': {'precision': 0.3380726698262243,\\\n",
    "  'recall': 0.4798206278026906,\\\n",
    "  'f1-score': 0.39666357738646896,\\\n",
    "  'support': 446},\\\n",
    " 'non functional': {'precision': 0.7787114845938375,\\\n",
    "  'recall': 0.7726514730405781,\\\n",
    "  'f1-score': 0.7756696428571429,\\\n",
    "  'support': 1799},\\\n",
    " 'accuracy': 0.7696371961958436,\\\n",
    " 'macro avg': {'precision': 0.6550834706962578,\\\n",
    "  'recall': 0.6860604643358522,\\\n",
    "  'f1-score': 0.6662894687529505,\\\n",
    "  'support': 5678},\\\n",
    " 'weighted avg': {'precision': 0.7862745745162902,\\\n",
    "  'recall': 0.7696371961958436,\\\n",
    "  'f1-score': 0.7766532118007543,\\\n",
    "  'support': 5678}}"
   ]
  },
  {
   "cell_type": "code",
   "execution_count": null,
   "metadata": {},
   "outputs": [],
   "source": [
    "# fourth grid search with SMOTE data\n",
    "rfc_params4 = {}\n",
    "rfc_params4['forest__n_estimators'] = [100, 500, 750]\n",
    "rfc_params4['forest__max_depth'] = [30, 50, 70]\n",
    "rfc_params4['forest__min_samples_split'] = [2, 10]\n",
    "rfc_params4['forest__max_features'] = ['sqrt', 'log2']\n",
    "rfc_params4['forest__class_weight'] = ['balanced', {'functional':1, 'functional needs repair':3, 'non functional': 2}]\n",
    "\n",
    "rfc_grid4 = GridSearchCV(forest_pipe, param_grid=rfc_params4, scoring='recall_weighted', cv=3, n_jobs=-3, verbose=3)\n",
    "\n",
    "rfc_grid4.fit(X_train_smote_rs, y_train_smote_rs)"
   ]
  },
  {
   "cell_type": "code",
   "execution_count": null,
   "metadata": {},
   "outputs": [],
   "source": [
    "# best parameters from search\n",
    "rfc_grid4.best_params_"
   ]
  },
  {
   "cell_type": "code",
   "execution_count": null,
   "metadata": {},
   "outputs": [],
   "source": [
    "# best recall score from search\n",
    "rfc_grid4.best_score_"
   ]
  },
  {
   "cell_type": "code",
   "execution_count": null,
   "metadata": {},
   "outputs": [],
   "source": [
    "classification_report(y_test, rfc_grid4.best_estimator_.predict(X_test), output_dict=True)"
   ]
  },
  {
   "cell_type": "markdown",
   "metadata": {},
   "source": [
    "Best parameters for fourth grid search:\\\n",
    "{'forest__class_weight': 'balanced',\\\n",
    " 'forest__max_depth': 50,\\\n",
    " 'forest__max_features': 'sqrt',\\\n",
    " 'forest__min_samples_split': 10,\\\n",
    " 'forest__n_estimators': 750}\n",
    "\n",
    "Best score for first fourth search:\\\n",
    "0.859180900621118\n",
    "\n",
    "Classification report for fourth grid search:\\\n",
    "{'functional': {'precision': 0.8500608272506083,\\\n",
    "  'recall': 0.8141567142441014,\\\n",
    "  'f1-score': 0.8317214700193424,\\\n",
    "  'support': 3433},\\\n",
    " 'functional needs repair': {'precision': 0.3305921052631579,\\\n",
    "  'recall': 0.45067264573991034,\\\n",
    "  'f1-score': 0.38140417457305503,\\\n",
    "  'support': 446},\\\n",
    " 'non functional': {'precision': 0.7850729517396184,\\\n",
    "  'recall': 0.7776542523624236,\\\n",
    "  'f1-score': 0.7813459927394582,\\\n",
    "  'support': 1799},\\\n",
    " 'accuracy': 0.7740401549841494,\\\n",
    " 'macro avg': {'precision': 0.6552419614177949,\\\n",
    "  'recall': 0.680827870782145,\\\n",
    "  'f1-score': 0.6648238791106186,\\\n",
    "  'support': 5678},\\\n",
    " 'weighted avg': {'precision': 0.7886666324547871,\\\n",
    "  'recall': 0.7740401549841494,\\\n",
    "  'f1-score': 0.7803887829119883,\\\n",
    "  'support': 5678}}"
   ]
  },
  {
   "cell_type": "markdown",
   "metadata": {},
   "source": [
    "#### Logistic Regression Classifier"
   ]
  },
  {
   "cell_type": "code",
   "execution_count": null,
   "metadata": {},
   "outputs": [],
   "source": [
    "# creating pipeline for logistic regression\n",
    "logreg_pipe = Pipeline(steps=[('col_trans', col_trans), ('logreg', LogisticRegression(max_iter=10000))])\n",
    "\n",
    "# fitting pipeline for logistic regression\n",
    "logreg_pipe.fit(X_train, y_train)"
   ]
  },
  {
   "cell_type": "code",
   "execution_count": null,
   "metadata": {},
   "outputs": [],
   "source": [
    "# first grid search for logistic regression \n",
    "lr_params1 = {}\n",
    "lr_params1['logreg__penalty'] = ['l1', 'l2']\n",
    "lr_params1['logreg__C'] = [1.0, .10, .01, .001]\n",
    "lr_params1['logreg__solver'] = ['saga', 'lbfgs']\n",
    "\n",
    "lr_grid1 = GridSearchCV(logreg_pipe, param_grid=lr_params1, cv=3, n_jobs=-3, verbose=3)\n",
    "\n",
    "lr_grid1.fit(X_train, y_train)"
   ]
  },
  {
   "cell_type": "code",
   "execution_count": null,
   "metadata": {},
   "outputs": [],
   "source": [
    "# best parameters from search\n",
    "lr_grid1.best_params_"
   ]
  },
  {
   "cell_type": "code",
   "execution_count": null,
   "metadata": {},
   "outputs": [],
   "source": [
    "# best recall score from search\n",
    "lr_grid1.best_score_"
   ]
  },
  {
   "cell_type": "code",
   "execution_count": null,
   "metadata": {},
   "outputs": [],
   "source": [
    "classification_report(y_test, lr_grid1.best_estimator_.predict(X_test), output_dict=True)"
   ]
  },
  {
   "cell_type": "markdown",
   "metadata": {},
   "source": [
    "Best parameters for first grid search:\\\n",
    "{'logreg__C': 1.0, 'logreg__penalty': 'l2', 'logreg__solver': 'lbfgs'}\n",
    "\n",
    "Best score for first grid search:\\\n",
    "0.77888636201987\n",
    "\n",
    "Classification Report for first grid search:\\\n",
    "{'functional': {'precision': 0.7946179233307946,\\\n",
    "  'recall': 0.9085631349782293,\\\n",
    "  'f1-score': 0.8477789815817984,\\\n",
    "  'support': 3445},\\\n",
    " 'functional needs repair': {'precision': 0.4900662251655629,\\\n",
    "  'recall': 0.20441988950276244,\\\n",
    "  'f1-score': 0.2884990253411306,\\\n",
    "  'support': 362},\\\n",
    " 'non functional': {'precision': 0.7984886649874056,\\\n",
    "  'recall': 0.677712453233565,\\\n",
    "  'f1-score': 0.7331598727956057,\\\n",
    "  'support': 1871},\\\n",
    " 'accuracy': 0.787601268052131,\\\n",
    " 'macro avg': {'precision': 0.694390937827921,\\\n",
    "  'recall': 0.596898492571519,\\\n",
    "  'f1-score': 0.6231459599061783,\\\n",
    "  'support': 5678},\\\n",
    " 'weighted avg': {'precision': 0.7764767544163361,\\\n",
    "  'recall': 0.787601268052131,\\\n",
    "  'f1-score': 0.7743531808248262,\\\n",
    "  'support': 5678}}"
   ]
  },
  {
   "cell_type": "code",
   "execution_count": null,
   "metadata": {},
   "outputs": [],
   "source": [
    "# second grid search for logistic regression \n",
    "lr_params2 = {}\n",
    "lr_params2['logreg__penalty'] = ['l1', 'l2']\n",
    "lr_params2['logreg__C'] = [1, 10]\n",
    "lr_params2['logreg__solver'] = ['saga']\n",
    "lr_params2['logreg__class_weight'] = ['balanced']\n",
    "\n",
    "lr_grid2 = GridSearchCV(logreg_pipe, param_grid=lr_params2, cv=3, n_jobs=-3, verbose=3)\n",
    "\n",
    "lr_grid2.fit(X_train, y_train)"
   ]
  },
  {
   "cell_type": "code",
   "execution_count": null,
   "metadata": {},
   "outputs": [],
   "source": [
    "# best parameters from search\n",
    "lr_grid2.best_params_"
   ]
  },
  {
   "cell_type": "code",
   "execution_count": null,
   "metadata": {},
   "outputs": [],
   "source": [
    "# best recall score from search\n",
    "lr_grid2.best_score_"
   ]
  },
  {
   "cell_type": "code",
   "execution_count": null,
   "metadata": {},
   "outputs": [],
   "source": [
    "classification_report(y_test, lr_grid2.best_estimator_.predict(X_test), output_dict=True)"
   ]
  },
  {
   "cell_type": "markdown",
   "metadata": {},
   "source": [
    "Best parameters for second grid search:\\\n",
    "{'logreg__C': 10,  'logreg__class_weight': 'balanced',  'logreg__penalty': 'l1',  'logreg__solver': 'saga'}\n",
    "\n",
    "Best Score for second grid search:\\\n",
    "0.6814809180093843\n",
    "\n",
    "Classification report for second grid search:\\\n",
    "{'functional': {'precision': 0.886236478925774,\\\n",
    "  'recall': 0.6880973066898349,\\\n",
    "  'f1-score': 0.7746984023475709,\\\n",
    "  'support': 3453},\\\n",
    " 'functional needs repair': {'precision': 0.25037481259370314,\\\n",
    "  'recall': 0.7914691943127962,\\\n",
    "  'f1-score': 0.38041002277904323,\\\n",
    "  'support': 422},\\\n",
    " 'non functional': {'precision': 0.7594708358388454,\\\n",
    "  'recall': 0.7004991680532446,\\\n",
    "  'f1-score': 0.7287939988459319,\\\n",
    "  'support': 1803},\\\n",
    " 'accuracy': 0.6997182106375485,\\\n",
    " 'macro avg': {'precision': 0.6320273757861075,\\\n",
    "  'recall': 0.7266885563519585,\\\n",
    "  'f1-score': 0.6279674746575153,\\\n",
    "  'support': 5678},\\\n",
    " 'weighted avg': {'precision': 0.7987246653157236,\\\n",
    "  'recall': 0.6997182106375485,\\\n",
    "  'f1-score': 0.7308175753501468,\\\n",
    "  'support': 5678}}"
   ]
  },
  {
   "cell_type": "code",
   "execution_count": null,
   "metadata": {},
   "outputs": [],
   "source": [
    "# third grid search for logistic regression with SMOTE data\n",
    "lr_params3 = {}\n",
    "lr_params3['logreg__penalty'] = ['l1', 'l2']\n",
    "lr_params3['logreg__C'] = [10, 1.0, .10] \n",
    "lr_params3['logreg__solver'] = ['saga', 'lbfgs'] \n",
    "\n",
    "lr_grid3 = GridSearchCV(logreg_pipe, param_grid=lr_params3, scoring='recall_weighted', cv=3, n_jobs=-2, verbose=3)\n",
    "\n",
    "lr_grid3.fit(X_train_smote_rs, y_train_smote_rs)"
   ]
  },
  {
   "cell_type": "code",
   "execution_count": null,
   "metadata": {},
   "outputs": [],
   "source": [
    "# best parameters from search\n",
    "lr_grid3.best_params_"
   ]
  },
  {
   "cell_type": "code",
   "execution_count": null,
   "metadata": {},
   "outputs": [],
   "source": [
    "# best recall score from search\n",
    "lr_grid3.best_score_"
   ]
  },
  {
   "cell_type": "code",
   "execution_count": null,
   "metadata": {},
   "outputs": [],
   "source": [
    "classification_report(y_test, lr_grid3.best_estimator_.predict(X_test), output_dict=True)"
   ]
  },
  {
   "cell_type": "markdown",
   "metadata": {},
   "source": [
    "Best parameters for third grid search:\\\n",
    " {'logreg__C': 10, 'logreg__penalty': 'l1', 'logreg__solver': 'saga'})\n",
    " \n",
    "Best score for third grid search:\\\n",
    "0.7500811108948153\n",
    "\n",
    "\n",
    "Classification report:\\\n",
    "{'functional': {'precision': 0.8702372393961179,\\\n",
    "  'recall': 0.7011294526498697,\\\n",
    "  'f1-score': 0.7765838011226944,\\\n",
    "  'support': 3453},\\\n",
    " 'functional needs repair': {'precision': 0.24289195775792038,\\\n",
    "  'recall': 0.7085308056872038,\\\n",
    "  'f1-score': 0.3617664851784634,\\\n",
    "  'support': 422},\\\n",
    " 'non functional': {'precision': 0.7549549549549549,\\\n",
    "  'recall': 0.697171381031614,\\\n",
    "  'f1-score': 0.7249134948096886,\\\n",
    "  'support': 1803},\\\n",
    " 'accuracy': 0.7004226840436774,\\\n",
    " 'macro avg': {'precision': 0.6226947173696643,\\\n",
    "  'recall': 0.7022772131228958,\\\n",
    "  'f1-score': 0.6210879270369488,\\\n",
    "  'support': 5678},\\\n",
    " 'weighted avg': {'precision': 0.787004821696446,\\\n",
    "  'recall': 0.7004226840436774,\\\n",
    "  'f1-score': 0.7293463108777464,\\\n",
    "  'support': 5678}}"
   ]
  },
  {
   "cell_type": "markdown",
   "metadata": {},
   "source": [
    "## Results\n",
    "\n",
    "We found the model that returned the highest recall score for the \"functional needs repair\" class of water pumps was the best model from our second logistic regression grid search.\n",
    "The optimal hyperparameters for this model were shown to be.\n",
    "\n",
    "Final model parameters:\\\n",
    "C: 10\\\n",
    "class_weight: balanced\\\n",
    "penalty: l1\\\n",
    "solver: saga\n",
    "\n",
    "Baseline model \"functional needs repair\" class recall score: 0.07374354156881165\\\n",
    "Final model \"functional needs repair\" class recall score: 0.7914691943127962\n",
    "\n",
    "Below is a graph of the results of our model showing the true positive predictions and the false negative predictions for each class. \n",
    "[stacked bar graph with three bars, one for each graph, showing our model significantly outperforming the baseline by around 10x](./images/Model_Prediction_Stack_Bar.png)\n",
    "\n",
    "We decided to optimize our models ability to predict the true positives for the \"functional needs repair\" class while reducing the number of false negatives for that class (Recall = True Positives / (True Positives + False Negatives). In this way, we believe our model can help The Water Project allocate its resources to best enhance water security while reducing immediate costs. \n",
    "\n",
    "The most important features that affected the target prediction the most are shown in this graph.\n",
    "[A bar graph of the feature importances for every column listed in the source dataframe](./images/pumpfeatsplot.png)\\\n",
    "This suggest that the critical features influencing the functionality of the waterpoint were 1) the type of the pump, 2) how much water is available, and 3) who is operating the waterpoint."
   ]
  },
  {
   "cell_type": "code",
   "execution_count": 57,
   "metadata": {},
   "outputs": [],
   "source": [
    "# final model confusion matrix\n",
    "conf_matrix = plot_confusion_matrix(lr_grid2.best_estimator_, y_test)\n",
    "plt.grid('off')\n",
    "plt.xticks(rotation=45)"
   ]
  },
  {
   "cell_type": "markdown",
   "metadata": {},
   "source": [
    "![confusion matrix](./images/pumpconfmat.png)"
   ]
  },
  {
   "cell_type": "code",
   "execution_count": 58,
   "metadata": {},
   "outputs": [
    {
     "data": {
      "image/png": "[encoded data removed]",
      "text/plain": [
       "<Figure size 1080x504 with 1 Axes>"
      ]
     },
     "metadata": {
      "needs_background": "light"
     },
     "output_type": "display_data"
    }
   ],
   "source": [
    "# Model Predictions Stack Bar Chart\n",
    "labels = [\"Functional\", \"Functioanal Needs Repair\", \"Non Functional\"]\n",
    "\n",
    "true_pos= [2376, 334, 1263]\n",
    "false_neg = [1087, 88, 540]\n",
    "\n",
    "\n",
    "fig, ax = plt.subplots(figsize=(15, 7))\n",
    "\n",
    "ax.bar(labels, true_pos, label='True Positives')\n",
    "ax.bar(labels, false_neg, label='False Negatives')\n",
    "\n",
    "ax.set_ylabel('# of Predictions')\n",
    "#ax.set_xlabel('Pedicted Class')\n",
    "\n",
    "ax.set_title(\"Model's Class Predictions\")\n",
    "ax.legend()\n",
    "\n",
    "\n",
    "plt.xticks(rotation=15)\n",
    "plt.show()"
   ]
  },
  {
   "cell_type": "code",
   "execution_count": null,
   "metadata": {},
   "outputs": [],
   "source": [
    "# finding feature importances\n",
    "coefs = lr_grid2.best_estimator_.named_steps['logreg'].coef_[0]\n",
    "feat_imp = pd.DataFrame(zip(X_train.columns, np.transpose(lr_grid2.best_estimator_.named_steps['logreg'].coef_.tolist()[0])), columns=['features', 'coef'])\n",
    "\n",
    "feat_imp['coef'] = feat_imp['coef'].map(abs)\n",
    "feat_imp.sort_values('coef', ascending=False)"
   ]
  },
  {
   "cell_type": "code",
   "execution_count": null,
   "metadata": {},
   "outputs": [],
   "source": [
    "# plotting feature importance\n",
    "\n",
    "fig, ax = plt.subplots(figsize=(15, 7))\n",
    "pal = ['orange', 'orange', 'orange', 'grey', 'grey', 'grey', 'grey', 'grey', 'grey', \n",
    "       'grey', 'grey', 'grey', 'grey', 'grey', 'grey', 'grey', 'grey', 'grey']\n",
    "\n",
    "plt.xticks(rotation=45)\n",
    "\n",
    "sns.barplot(data=feat_imp.sort_values('coef', ascending=False), x='features', y='coef',\n",
    "            palette=pal, dodge=False)\n",
    "ax.set_ylabel('Importance')\n",
    "ax.set_xlabel('Features')\n",
    "ax.set_xticklabels(['Pump Type','Quantity','Operator Grp','Water Basin','Population',\n",
    "                    'Management', 'Installer', 'Permit', 'Extractn Type', 'Region',\n",
    "                    'Source', 'Operator Loc', 'H2O Qual', 'Elevation','Head Pressure',\n",
    "                    'Funder', 'Const Year', 'Payment'])\n",
    "sns.set(rc={'axes.facecolor':'white', 'figure.facecolor':'white'})"
   ]
  }
 ],
 "metadata": {
  "kernelspec": {
   "display_name": "Python (learn-env)",
   "language": "python",
   "name": "learn-env"
  },
  "language_info": {
   "codemirror_mode": {
    "name": "ipython",
    "version": 3
   },
   "file_extension": ".py",
   "mimetype": "text/x-python",
   "name": "python",
   "nbconvert_exporter": "python",
   "pygments_lexer": "ipython3",
   "version": "3.8.5"
  }
 },
 "nbformat": 4,
 "nbformat_minor": 4
}
